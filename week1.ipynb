{
 "cells": [
  {
   "cell_type": "markdown",
   "id": "70d1d811-3dfc-411f-a87b-065ba785f1c3",
   "metadata": {
    "tags": []
   },
   "source": [
    "## 프로그래밍이란?\n",
    "    - 프로그래밍 언어를 사용하여 프로그램을 개발하는 것\n",
    "    - 논리적인 사고를 가질 수 있다.\n",
    "    \n",
    "## programming language?\n",
    "    - 프로그램을 개발할 때 사용하는 도구\n",
    "    - 인간이 원하는 것을 컴퓨터에게 명령할 때, 사용하는 컴퓨터가 이해할 수 있는 언어\n",
    "    \n",
    "## 파이썬?\n",
    "    - 쉽다. 간결하다.\n",
    "    - 라이브러리가 많다."
   ]
  },
  {
   "cell_type": "markdown",
   "id": "9b17ecf8-9041-4bee-8ffa-0ae5c2193d54",
   "metadata": {
    "jupyter": {
     "source_hidden": true
    },
    "tags": []
   },
   "source": [
    "## Chapter 2. Data: Types, Values, Variables, and Names"
   ]
  },
  {
   "cell_type": "code",
   "execution_count": 5,
   "id": "d1b60b87-d1b2-46f9-bb3f-18cc5f503ae8",
   "metadata": {},
   "outputs": [
    {
     "data": {
      "text/plain": [
       "2"
      ]
     },
     "execution_count": 5,
     "metadata": {},
     "output_type": "execute_result"
    }
   ],
   "source": [
    "a = 2\n",
    "a"
   ]
  },
  {
   "cell_type": "code",
   "execution_count": 6,
   "id": "2d7d43b8-d8af-4658-a478-48bbe840e422",
   "metadata": {},
   "outputs": [
    {
     "data": {
      "text/plain": [
       "True"
      ]
     },
     "execution_count": 6,
     "metadata": {},
     "output_type": "execute_result"
    }
   ],
   "source": [
    "a == 2"
   ]
  },
  {
   "cell_type": "markdown",
   "id": "ede66d30-c286-4970-9bf1-5c566d25e2b3",
   "metadata": {
    "tags": []
   },
   "source": [
    "- 변수|variables: 특정 값을 저장하는 공간\n",
    "    a\n",
    "- 값|value\n",
    "    2\n",
    "- 할당하다|assign: 변수에 값을 넣는 과정\n",
    "    \"2를 a에 넣었다.\"\n",
    "   \n",
    "   *** a는 2다. a == 2\n",
    "- 자료형|type: 데이터의 형태\n",
    "    a 데이터의 형태? integer (int 타입이다)"
   ]
  },
  {
   "cell_type": "code",
   "execution_count": 7,
   "id": "ad4510ba-23c5-4602-8000-46ed2cdf4dc7",
   "metadata": {},
   "outputs": [
    {
     "name": "stdout",
     "output_type": "stream",
     "text": [
      "2\n"
     ]
    }
   ],
   "source": [
    "print(a)"
   ]
  },
  {
   "cell_type": "code",
   "execution_count": 8,
   "id": "bbdb7b7c-3969-46ff-a3c8-726eb99cb079",
   "metadata": {},
   "outputs": [
    {
     "data": {
      "text/plain": [
       "2"
      ]
     },
     "execution_count": 8,
     "metadata": {},
     "output_type": "execute_result"
    }
   ],
   "source": [
    "a"
   ]
  },
  {
   "cell_type": "code",
   "execution_count": 9,
   "id": "17886455-7b3b-48cb-8f5f-c37af1b20e9f",
   "metadata": {},
   "outputs": [
    {
     "data": {
      "text/plain": [
       "int"
      ]
     },
     "execution_count": 9,
     "metadata": {},
     "output_type": "execute_result"
    }
   ],
   "source": [
    "# type\n",
    "type(a)"
   ]
  },
  {
   "cell_type": "code",
   "execution_count": 10,
   "id": "1e098374-a1e3-4f6b-b28f-b7832ee91c6e",
   "metadata": {},
   "outputs": [
    {
     "data": {
      "text/plain": [
       "int"
      ]
     },
     "execution_count": 10,
     "metadata": {},
     "output_type": "execute_result"
    }
   ],
   "source": [
    "type(2)"
   ]
  },
  {
   "cell_type": "code",
   "execution_count": 12,
   "id": "90adafb4-197e-40f0-bbbd-36bc6ba2c6fb",
   "metadata": {},
   "outputs": [
    {
     "data": {
      "text/plain": [
       "bool"
      ]
     },
     "execution_count": 12,
     "metadata": {},
     "output_type": "execute_result"
    }
   ],
   "source": [
    " type(a == 2) # bool, boolean T/F"
   ]
  },
  {
   "cell_type": "markdown",
   "id": "8ca9fd04-7b94-4a68-9a55-62764fd7cd87",
   "metadata": {
    "tags": []
   },
   "source": [
    "### Type\n",
    "- integer|정수: 1, 2, 3, .. (int)\n",
    "- floating point number|부동소수점: 1.0, 2.0, ..., 0.4 (float)\n",
    "- string|문자열: \"\", '' (str)\n",
    "- boolean|불리언\" True/False (bool)"
   ]
  },
  {
   "cell_type": "code",
   "execution_count": 13,
   "id": "35e154fe-36f4-4cb2-bce4-687790efd9f9",
   "metadata": {},
   "outputs": [
    {
     "data": {
      "text/plain": [
       "str"
      ]
     },
     "execution_count": 13,
     "metadata": {},
     "output_type": "execute_result"
    }
   ],
   "source": [
    "type(\"1\")"
   ]
  },
  {
   "cell_type": "code",
   "execution_count": 14,
   "id": "3b59a7bc-ae95-4020-b299-81c82d2c65c3",
   "metadata": {},
   "outputs": [
    {
     "data": {
      "text/plain": [
       "str"
      ]
     },
     "execution_count": 14,
     "metadata": {},
     "output_type": "execute_result"
    }
   ],
   "source": [
    "type('apple')"
   ]
  },
  {
   "cell_type": "code",
   "execution_count": 15,
   "id": "e61a8ed4-2299-4756-b62d-052b85545c26",
   "metadata": {},
   "outputs": [
    {
     "ename": "NameError",
     "evalue": "name 'apple' is not defined",
     "output_type": "error",
     "traceback": [
      "\u001b[1;31m---------------------------------------------------------------------------\u001b[0m",
      "\u001b[1;31mNameError\u001b[0m                                 Traceback (most recent call last)",
      "\u001b[1;32m~\\AppData\\Local\\Temp/ipykernel_23476/2423857472.py\u001b[0m in \u001b[0;36m<module>\u001b[1;34m\u001b[0m\n\u001b[1;32m----> 1\u001b[1;33m \u001b[0mtype\u001b[0m\u001b[1;33m(\u001b[0m\u001b[0mapple\u001b[0m\u001b[1;33m)\u001b[0m \u001b[1;31m#변수명\u001b[0m\u001b[1;33m\u001b[0m\u001b[1;33m\u001b[0m\u001b[0m\n\u001b[0m",
      "\u001b[1;31mNameError\u001b[0m: name 'apple' is not defined"
     ]
    }
   ],
   "source": [
    "type(apple) #변수명"
   ]
  },
  {
   "cell_type": "code",
   "execution_count": 17,
   "id": "37f69721-ba98-460f-9819-bdd3519e8c98",
   "metadata": {},
   "outputs": [
    {
     "data": {
      "text/plain": [
       "'kim'"
      ]
     },
     "execution_count": 17,
     "metadata": {},
     "output_type": "execute_result"
    }
   ],
   "source": [
    "name = 'kim'\n",
    "name"
   ]
  },
  {
   "cell_type": "code",
   "execution_count": 18,
   "id": "130abb41-5c8d-41c6-8186-825dfda12729",
   "metadata": {},
   "outputs": [
    {
     "name": "stdout",
     "output_type": "stream",
     "text": [
      "kim\n"
     ]
    }
   ],
   "source": [
    "print(name)"
   ]
  },
  {
   "cell_type": "code",
   "execution_count": 19,
   "id": "530be275-07a7-45a5-9524-11c64bc0891a",
   "metadata": {},
   "outputs": [
    {
     "name": "stdout",
     "output_type": "stream",
     "text": [
      "kim\n"
     ]
    }
   ],
   "source": [
    "print('kim')"
   ]
  },
  {
   "cell_type": "markdown",
   "id": "9bf2be94-1a2a-45b1-ac6f-94edf4dc1e06",
   "metadata": {
    "tags": []
   },
   "source": [
    "### 할당\n",
    "- = 이 기호를 사용한다.\n",
    "- 수학에서 '같다'라는 의미로 사용되지만, 프로그래밍에서는 '할당하다'라는 의미가 추가된다.\n",
    "- \"오른쪽의 값을 왼쪽에 할당한다\"\n",
    "- 1. 오른쪽에 있는 모든 것은 값을 가져야 한다. (초기화를 해야 한다.)"
   ]
  },
  {
   "cell_type": "code",
   "execution_count": 22,
   "id": "9f494919-2956-4008-8dbe-17a07d0266f4",
   "metadata": {
    "tags": []
   },
   "outputs": [],
   "source": [
    "x = 4\n",
    "y = x + 3"
   ]
  },
  {
   "cell_type": "code",
   "execution_count": 23,
   "id": "9f80f3c5-48e3-45ad-be50-d697e6a0ebfe",
   "metadata": {},
   "outputs": [
    {
     "data": {
      "text/plain": [
       "(4, 7)"
      ]
     },
     "execution_count": 23,
     "metadata": {},
     "output_type": "execute_result"
    }
   ],
   "source": [
    "x, y"
   ]
  },
  {
   "cell_type": "code",
   "execution_count": 24,
   "id": "77eb8079-9c1e-47c8-8976-fe0f1aabad9c",
   "metadata": {},
   "outputs": [],
   "source": [
    "name = 'kim'\n",
    "name = 'lee'\n",
    "name = 'park'\n",
    "name = 4"
   ]
  },
  {
   "cell_type": "code",
   "execution_count": 26,
   "id": "7b09b766-477c-41e8-b650-e91f6957557f",
   "metadata": {},
   "outputs": [
    {
     "name": "stdout",
     "output_type": "stream",
     "text": [
      "4\n"
     ]
    }
   ],
   "source": [
    "print(name) # 변수명 동일하게 사용하지 말라"
   ]
  },
  {
   "cell_type": "code",
   "execution_count": 27,
   "id": "39628152-13d1-404e-958e-a9c512c585b1",
   "metadata": {},
   "outputs": [],
   "source": [
    "text = 'abc'\n",
    "text = 'cde'"
   ]
  },
  {
   "cell_type": "markdown",
   "id": "df402d09-da6b-43ea-8703-b87f8dbde593",
   "metadata": {},
   "source": [
    "### 변수명 정하기\n",
    "- 나쁜 변수명: a, b, c, a1, b1, ..\n",
    "- 의미있는 이름으로 선언해야 한다.\n",
    "- 소문자, 대문자, 숫자, 언더바를 사용한다.\n",
    "    예: name, name2, my_name, Name, NAME"
   ]
  },
  {
   "cell_type": "code",
   "execution_count": 39,
   "id": "d9d50d80-81ff-451e-a50e-afc41291ccef",
   "metadata": {
    "tags": []
   },
   "outputs": [
    {
     "name": "stdout",
     "output_type": "stream",
     "text": [
      "juliette,jessica,laura\n"
     ]
    }
   ],
   "source": [
    "name = 'juliette'\n",
    "name1= 'jessica'\n",
    "my_name = 'laura'\n",
    "#myName 카멜표기법\n",
    "print(name, name1, my_name, sep=',')"
   ]
  },
  {
   "cell_type": "markdown",
   "id": "4655f1fe-4a35-4d5f-8cdf-a12131c24b7e",
   "metadata": {
    "tags": []
   },
   "source": [
    "- 안되는 것\n",
    "    - 숫자로 시작할 수 없다.\n",
    "        예: 22name, 22_name\n",
    "    - 예약어로 선언할 수 없다.\n",
    "        예: daf, False, ..."
   ]
  },
  {
   "cell_type": "code",
   "execution_count": 34,
   "id": "208346f5-e445-45fc-8fa3-e63e29c791e9",
   "metadata": {},
   "outputs": [
    {
     "name": "stdout",
     "output_type": "stream",
     "text": [
      "\n",
      "Here is a list of the Python keywords.  Enter any keyword to get more help.\n",
      "\n",
      "False               break               for                 not\n",
      "None                class               from                or\n",
      "True                continue            global              pass\n",
      "__peg_parser__      def                 if                  raise\n",
      "and                 del                 import              return\n",
      "as                  elif                in                  try\n",
      "assert              else                is                  while\n",
      "async               except              lambda              with\n",
      "await               finally             nonlocal            yield\n",
      "\n"
     ]
    }
   ],
   "source": [
    "# if = 'kim'\n",
    "help(\"keywords\")"
   ]
  },
  {
   "cell_type": "markdown",
   "id": "725ca5aa-5b73-4730-a069-59962e062e8e",
   "metadata": {
    "tags": []
   },
   "source": [
    "- 조심할 것 : 특별한 용도가 있기 때문에, (용도를 모르면 의미없이 사용하지 않도록 한다.)\n",
    "    - 언더바로 시작하는 변수명: _name\n",
    "    - 더블 언더바로 시작하는 변수명: __name__\n",
    "    - 대분자로 시작하는 변수명: Name\n",
    "    - 전체 대문자: NAME"
   ]
  },
  {
   "cell_type": "code",
   "execution_count": 35,
   "id": "a4748726-0cd6-4ec8-bde1-0a9bbbb0b021",
   "metadata": {},
   "outputs": [],
   "source": [
    "# 변수명은 대소문자 구분한다.\n",
    "num = 43\n",
    "Num = 44"
   ]
  },
  {
   "cell_type": "code",
   "execution_count": 36,
   "id": "a425a170-147e-49e6-adc6-2d2ded85af9b",
   "metadata": {},
   "outputs": [
    {
     "data": {
      "text/plain": [
       "False"
      ]
     },
     "execution_count": 36,
     "metadata": {},
     "output_type": "execute_result"
    }
   ],
   "source": [
    "num == Num"
   ]
  },
  {
   "cell_type": "code",
   "execution_count": 37,
   "id": "d7690772-a5a7-4224-abf1-85a1f60b41fe",
   "metadata": {},
   "outputs": [
    {
     "data": {
      "text/plain": [
       "False"
      ]
     },
     "execution_count": 37,
     "metadata": {},
     "output_type": "execute_result"
    }
   ],
   "source": [
    "num = 'number'\n",
    "Num = 'Number'\n",
    "\n",
    "num == Num"
   ]
  },
  {
   "cell_type": "code",
   "execution_count": 38,
   "id": "98b90ad6-9a73-454c-912e-62c7d298851a",
   "metadata": {},
   "outputs": [
    {
     "data": {
      "text/plain": [
       "True"
      ]
     },
     "execution_count": 38,
     "metadata": {},
     "output_type": "execute_result"
    }
   ],
   "source": [
    "num != Num"
   ]
  }
 ],
 "metadata": {
  "kernelspec": {
   "display_name": "Python 3 (ipykernel)",
   "language": "python",
   "name": "python3"
  },
  "language_info": {
   "codemirror_mode": {
    "name": "ipython",
    "version": 3
   },
   "file_extension": ".py",
   "mimetype": "text/x-python",
   "name": "python",
   "nbconvert_exporter": "python",
   "pygments_lexer": "ipython3",
   "version": "3.9.7"
  }
 },
 "nbformat": 4,
 "nbformat_minor": 5
}
