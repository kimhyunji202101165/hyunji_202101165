{
 "cells": [
  {
   "cell_type": "markdown",
   "id": "89abf9c4-0db1-4c52-b8ad-8b79a6694c0f",
   "metadata": {
    "tags": []
   },
   "source": [
    "## 중첩조건문 | nested conditional\n",
    "<br>\n",
    "- if 블록 안에 또 if 블록이 만들어지는 경우\n",
    "    ```python\n",
    "    if ...:\n",
    "        if ...:\n",
    "            if ...:\n",
    "    ```\n",
    "    - 구분은 들여쓰기로 한다.\n",
    "    - 하나의 조건문이 조건문 내부에 중첩\n",
    "    - 중첩 조건문의 경우, 들여쓰기를 할수록 가독성이 급격히 저하되므로,  \n",
    "    가능하면 중첩조건문을 피하라 - 논리 연산자를 사용 \n",
    "<br><br>"
   ]
  },
  {
   "cell_type": "markdown",
   "id": "2f52c92c-1a01-44ec-850a-17df9a228455",
   "metadata": {},
   "source": [
    "  \n",
    "  "
   ]
  },
  {
   "cell_type": "markdown",
   "id": "9f132afa-198d-49e2-9d97-cd609b6a25a8",
   "metadata": {},
   "source": [
    "중첩조건문을 사용한 모습\n",
    "```python\n",
    "x = 0\n",
    "y = 4\n",
    "\n",
    "if x == y:\n",
    "    print(\"block A\")\n",
    "else:\n",
    "    if x < y:\n",
    "        print(\"block B\")\n",
    "    else:\n",
    "        print(\"block C\")\n",
    "```\n",
    "<br><br>"
   ]
  },
  {
   "cell_type": "markdown",
   "id": "ef9d66fa-2d51-40e6-8739-3b5416606b5a",
   "metadata": {},
   "source": [
    "중첩조건문을 사용하지 않은 모습\n",
    "``` python\n",
    "if x == y:\n",
    "    # block A\n",
    "elif x < y:\n",
    "    # block B\n",
    "else:\n",
    "    # block C\n",
    "```\n",
    "<br><br>"
   ]
  },
  {
   "cell_type": "markdown",
   "id": "1931f92f-2864-46cc-8e4f-6c6638bf2ec2",
   "metadata": {
    "tags": []
   },
   "source": [
    "#### 0 < x < 10을 중첩조건문으로 표현\n",
    "```python\n",
    "if x > 0:\n",
    "    print(\"A\")\n",
    "    if x < 10:\n",
    "        print(\"B\")\n",
    "    else:\n",
    "        print(\"C\")\n",
    "else:\n",
    "    print(\"D\")\n",
    "```\n",
    "복잡하니 지양해라... <br> <br>"
   ]
  },
  {
   "cell_type": "markdown",
   "id": "b55b04d8-2cd0-498c-9c78-b4e23e924f2d",
   "metadata": {},
   "source": [
    "### 중첩조건문을 피하는 방법 \n",
    "<br>\n",
    "\n",
    "#### 1. 논리연산자를 사용\n",
    "```python\n",
    "if (x > 0) and (x < 10):\n",
    "    # block A\n",
    "else:\n",
    "    # block B\n",
    "```\n",
    "#### 2. 파이썬에서만 사용 가능\n",
    "```python\n",
    "if 0 < x < 10: \n",
    "    # block A\n",
    "else:\n",
    "    # block B\n",
    "```\n",
    "<br><br>"
   ]
  },
  {
   "cell_type": "markdown",
   "id": "7062721f-79c2-4326-a424-e4c268ced8cb",
   "metadata": {},
   "source": [
    "### 논리연산자\n",
    "- 비교연산 조건을 여러 번 사용하는 경우 사용\n",
    "    -  x > 0, x < 10\n",
    "- and, or, not\n",
    "    - A and(&) B: A 그리고 B -> A, B 둘 다 True여야만 True \n",
    "    - A or(|) B: A 혹은 B -> 둘 중 하나만 참이어도 True \n",
    "    - not(~) A: A가 참이면 False, 거짓이면 True \n",
    "<br><br>"
   ]
  },
  {
   "cell_type": "code",
   "execution_count": 32,
   "id": "d47de5c2-09f4-468d-926f-1e41b0f53baa",
   "metadata": {},
   "outputs": [
    {
     "name": "stdout",
     "output_type": "stream",
     "text": [
      "True True False False False\n"
     ]
    }
   ],
   "source": [
    "# and - 모두 True여야 True가 나온다\n",
    "print(True and True and True,\n",
    "      True and True,\n",
    "      True and False,\n",
    "      False and True,\n",
    "      False and False)"
   ]
  },
  {
   "cell_type": "code",
   "execution_count": 24,
   "id": "9c73eae2-6465-418f-8e36-85d8a58a72be",
   "metadata": {},
   "outputs": [
    {
     "name": "stdout",
     "output_type": "stream",
     "text": [
      "True True True True True False\n"
     ]
    }
   ],
   "source": [
    "# or - True가 한 개 이상이기만 하면 True가 나온다\n",
    "print(True or False or False,\n",
    "      True or True,\n",
    "      True or False,\n",
    "      False or True,\n",
    "      False or True,\n",
    "      False or False)"
   ]
  },
  {
   "cell_type": "code",
   "execution_count": 28,
   "id": "03149e62-63f5-417d-ba08-96ed904441e0",
   "metadata": {},
   "outputs": [
    {
     "name": "stdout",
     "output_type": "stream",
     "text": [
      "False True\n"
     ]
    }
   ],
   "source": [
    "# not - 논리값을 뒤집는다\n",
    "print(not True,\n",
    "      not False)"
   ]
  },
  {
   "cell_type": "code",
   "execution_count": 30,
   "id": "4742efb7-cfc7-4f3f-874a-e7a00bd66782",
   "metadata": {},
   "outputs": [
    {
     "data": {
      "text/plain": [
       "True"
      ]
     },
     "execution_count": 30,
     "metadata": {},
     "output_type": "execute_result"
    }
   ],
   "source": [
    "# and, or, not이 하나의 식에 모두 사용되었을 때\n",
    "# not -> and -> or 순으로 판단한다\n",
    "\n",
    "not True and False or not False\n",
    "# False and False or True\n",
    "# False or True\n",
    "# True"
   ]
  },
  {
   "cell_type": "markdown",
   "id": "221b6e20-77ee-41fa-b555-38f6380caa12",
   "metadata": {},
   "source": [
    "<br><br>\n",
    "### `True/False`\n",
    "- A = True\n",
    "- \"만약 A가 참이면, ...\""
   ]
  },
  {
   "cell_type": "markdown",
   "id": "57a19bf5-bc40-4246-9ce8-b49b64989d9b",
   "metadata": {},
   "source": [
    "```python\n",
    "if A == True: \n",
    "    print() # 이렇게 하는 게 아니라\n",
    "    \n",
    "if A:\n",
    "    print() # OK\n",
    "```\n",
    "<br><br>"
   ]
  },
  {
   "cell_type": "markdown",
   "id": "b48813bf-887b-4fc1-8346-7fbb2e8a7c9b",
   "metadata": {},
   "source": [
    "### `in / not in`\n",
    "- membership operator\n",
    "- 요소가 포함되어 있/없는지를 확인할 때 or 비슷한 조건문을 반복할 때 사용\n",
    "- A in B => A가 B에 포함되어 있는가?\n",
    "- A not in B => A가 B에 포함되어 있지 않는가?\n",
    "- 결과는 bool type\n",
    "<br><br>"
   ]
  },
  {
   "cell_type": "code",
   "execution_count": 7,
   "id": "9a6125e4-f2ea-4487-854c-d3829242f107",
   "metadata": {},
   "outputs": [
    {
     "name": "stdout",
     "output_type": "stream",
     "text": [
      "자음\n"
     ]
    }
   ],
   "source": [
    "# ex 모음인지 아닌지를 판별하라 (a, e, i, o, u)\n",
    "\n",
    "letter = 'k'\n",
    "\n",
    "# if letter == 'a' or letter == 'e', .... 비슷한 조건문 반복 대신\n",
    "\n",
    "if letter in ['a', 'e', 'i', 'o', 'u']:\n",
    "    print('모음')\n",
    "else: print('자음')"
   ]
  },
  {
   "cell_type": "code",
   "execution_count": 6,
   "id": "98c6428f-3428-4df3-befc-e04a9be72e76",
   "metadata": {},
   "outputs": [
    {
     "name": "stdout",
     "output_type": "stream",
     "text": [
      "yes\n"
     ]
    }
   ],
   "source": [
    "# 단어에 모음이 있는지를 판별하라\n",
    "\n",
    "word = 'apple'\n",
    "\n",
    "if 'a' or 'e' or 'i' or 'o' or 'u' in word:\n",
    "    print('yes')"
   ]
  },
  {
   "cell_type": "markdown",
   "id": "589ab138-ce3f-4cbf-9e27-d282872640fe",
   "metadata": {},
   "source": [
    "<br><br>\n",
    "### 바다코끼리 연산자\n",
    "- walrus operator\n",
    "- :=\n",
    "- 할당 + 테스트를 동시에 하는 기능\n",
    "- 목적\n",
    "    - 표현식에 이름을 부여하고 재사용할 수 있도록 함\n",
    "    - 할당과 테스트를 한 단계로 줄일 수 있음"
   ]
  },
  {
   "cell_type": "code",
   "execution_count": 12,
   "id": "edd9827d-ffaf-4277-9eae-3974ba8263ed",
   "metadata": {},
   "outputs": [
    {
     "data": {
      "text/plain": [
       "'blahblahblahblahblahblahblahblahblahblahblahblahblahblahblahblahblahblahblahblahblahblahblahblahblahblahblahblahblahblahblahblahblahblahblahblahblahblahblahblahblahblahblahblahblahblahblahblahblahblah'"
      ]
     },
     "execution_count": 12,
     "metadata": {},
     "output_type": "execute_result"
    }
   ],
   "source": [
    "tweet_limit = 200\n",
    "tweet_string = 'blah' * 50 # 4 * 50 = 200\n",
    "\n",
    "tweet_string"
   ]
  },
  {
   "cell_type": "code",
   "execution_count": 11,
   "id": "3443876a-2d36-473a-8dd9-e3bf02a9ec81",
   "metadata": {},
   "outputs": [
    {
     "name": "stdout",
     "output_type": "stream",
     "text": [
      "불가능하다\n"
     ]
    }
   ],
   "source": [
    "diff = tweet_limit - len(tweet_string)\n",
    "\n",
    "if diff > 0:\n",
    "    print('가능하다')\n",
    "else:\n",
    "    print('불가능하다') # 한 줄로 줄이고 싶다..."
   ]
  },
  {
   "cell_type": "code",
   "execution_count": 15,
   "id": "658384fd-4bba-4122-98f1-db2ae1d72864",
   "metadata": {},
   "outputs": [
    {
     "name": "stdout",
     "output_type": "stream",
     "text": [
      "no\n"
     ]
    }
   ],
   "source": [
    "if diff := tweet_limit - len(tweet_string) >0: # 할당과 테스트를 한 단계로\n",
    "    print('yes')\n",
    "else: print('no')"
   ]
  },
  {
   "cell_type": "markdown",
   "id": "2cc87083-a713-47b3-a98d-4afb0c8b5b27",
   "metadata": {},
   "source": [
    "<br><br>\n",
    "### 퀴즈 1\n",
    "- 윤년을 구해봅시다.\n",
    "    - 연도 입력받는다.\n",
    "    - 해당 연도가 4로 나눠지면 윤년이다.\n",
    "    - 100으로 나눠지면 윤년이 아니다.\n",
    "    - 400으로 나눠지면 윤년이다.\n",
    "- 출력: '{}년은 윤년입니다.' / '- 아닙니다.'"
   ]
  },
  {
   "cell_type": "code",
   "execution_count": 45,
   "id": "8c330069-bb9b-436a-b9f0-762649e33d44",
   "metadata": {},
   "outputs": [
    {
     "name": "stdin",
     "output_type": "stream",
     "text": [
      "연도를 입력하세요: 2000\n"
     ]
    },
    {
     "name": "stdout",
     "output_type": "stream",
     "text": [
      "2000년은 윤년입니다.\n"
     ]
    }
   ],
   "source": [
    "# and, or 논리 사용\n",
    "\n",
    "year = int(input('연도를 입력하세요:'))\n",
    "\n",
    "yes = f'{year}년은 윤년입니다.'\n",
    "no = f'{year}년은 윤년이 아닙니다.'\n",
    "\n",
    "if (year % 4 == 0 and year % 100 != 0) or (year % 400 == 0):\n",
    "    print(yes)\n",
    "else:\n",
    "    print(no)"
   ]
  },
  {
   "cell_type": "markdown",
   "id": "af4fafc9-cbef-477b-99f4-55854a9dd34a",
   "metadata": {},
   "source": [
    "\n",
    "---\n",
    "<br><br>"
   ]
  },
  {
   "cell_type": "markdown",
   "id": "60baba13-9613-420e-9a08-502c2062c90f",
   "metadata": {},
   "source": [
    "## String | 문자열\n",
    "- 문자, 단어 등으로 구성된 문자들의 집합\n",
    "\n",
    "```python\n",
    "\"Life is too short, You need Python\"\n",
    "\"a\"\n",
    "\"123\"\n",
    "```\n",
    "\n",
    "- 시스템에서 가장 작은 단위\n",
    "- 불변적(immutable)인 성격을 가진다\n",
    "    - 예) jack -> jeck 아예 할당을 다시할 수는 있지만 중간에 한 글자만 바꿀 수는 없다\n",
    "- `'`, `\"`으로 선언한다. - 숫자여도 따옴표로 둘러싸져 있으면 모두 문자열이다\n",
    "    - 예) \"25.5\"\n",
    "    - `'''`, `\"\"\"`로 주석 처리 가능\n",
    "- 문자열로의 형변환은 `str()`\n",
    "<br><br>\n",
    "### escape character | 이스케이프 문자\n",
    "- 프로그래밍할 때 사용할 수 있도록 미리 정의해 둔 특수한 형태의 문자 조합\n",
    "- 눈에 보이는대로 인식되지 않음\n",
    "- 주로 출력물을 보기 좋게 정렬하는 용도로 사용\n",
    "- `\\` + 문자 (`\\n`, `\\t`, `\\b`, `\\'`, `\\\"`, ...)\n",
    "    - '\\n'를 출력하고 싶다?\n",
    "    - `r' '` 사용 - raw string(Escape에 영향받지 않고 그대로 표시)\n",
    "``` python \n",
    "        print(r'\\n') \n",
    "```\n",
    "- 다른 스트링을 만드는 것이 아니라, 출력을 다르게 함"
   ]
  },
  {
   "cell_type": "code",
   "execution_count": 14,
   "id": "9b1751f2-01a0-478c-ba77-7416de48a24e",
   "metadata": {},
   "outputs": [
    {
     "name": "stdout",
     "output_type": "stream",
     "text": [
      "\n",
      "1. hello\n",
      "world\n",
      "2. hello\tworld\n",
      "3. hello\\world\n",
      "4. hello'world'\n",
      "5. hello\"world\"\n",
      "6. hellworld (back space)\n",
      "7. hello\\world\n",
      "\n"
     ]
    }
   ],
   "source": [
    "print('''\n",
    "1. hello\\nworld\n",
    "2. hello\\tworld\n",
    "3. hello\\\\world\n",
    "4. hello\\'world\\'\n",
    "5. hello\\\"world\\\"\n",
    "6. hello\\bworld (back space)\n",
    "7. hello\\\\world\n",
    "''')"
   ]
  },
  {
   "cell_type": "code",
   "execution_count": 12,
   "id": "3e04d485-1880-4b58-85ce-7de02ce34282",
   "metadata": {},
   "outputs": [
    {
     "name": "stdout",
     "output_type": "stream",
     "text": [
      "\\n\n",
      "\n",
      "\n",
      "EOL\n"
     ]
    }
   ],
   "source": [
    "print(r'\\n') # raw string - Escape에 영향받지 않고 그대로 표시\n",
    "print('\\n')\n",
    "print('EOL')"
   ]
  },
  {
   "cell_type": "code",
   "execution_count": 23,
   "id": "af2fb5d5-6c24-4096-94de-a65c1a7efc19",
   "metadata": {},
   "outputs": [
    {
     "name": "stdout",
     "output_type": "stream",
     "text": [
      "hello\n",
      "world\n"
     ]
    }
   ],
   "source": [
    "sent = 'hello\\nworld'\n",
    "\n",
    "print(sent) # 이스케이프 O"
   ]
  },
  {
   "cell_type": "code",
   "execution_count": 22,
   "id": "4653ff13-28cb-4b0f-b8dd-5134225b3b70",
   "metadata": {},
   "outputs": [
    {
     "data": {
      "text/plain": [
       "'hello\\nworld'"
      ]
     },
     "execution_count": 22,
     "metadata": {},
     "output_type": "execute_result"
    }
   ],
   "source": [
    "sent # 이스케이프 X"
   ]
  },
  {
   "cell_type": "markdown",
   "id": "0a905748-bc5f-41e4-8aa1-16ee0ec6cef9",
   "metadata": {},
   "source": [
    "<br><br>\n",
    "### 연산\n",
    "- 더해서 연결하기 concatenation\n",
    "    - '' `+` '' => 공백 없이 결합하는 방법\n",
    "- 곱하기\n",
    "    - '' `*` 5 => 복제"
   ]
  },
  {
   "cell_type": "code",
   "execution_count": 25,
   "id": "b48738c7-8ef7-44fe-b640-911a9c1095ef",
   "metadata": {},
   "outputs": [
    {
     "data": {
      "text/plain": [
       "'jackjack'"
      ]
     },
     "execution_count": 25,
     "metadata": {},
     "output_type": "execute_result"
    }
   ],
   "source": [
    "name = 'jack'\n",
    "name + name # 공백 없이 출력"
   ]
  },
  {
   "cell_type": "code",
   "execution_count": 59,
   "id": "ecfd9c6e-ffd3-45ef-bc07-7cd2ca59805f",
   "metadata": {},
   "outputs": [
    {
     "data": {
      "text/plain": [
       "'jackjackjackjack'"
      ]
     },
     "execution_count": 59,
     "metadata": {},
     "output_type": "execute_result"
    }
   ],
   "source": [
    "name * 4"
   ]
  },
  {
   "cell_type": "code",
   "execution_count": 27,
   "id": "f38d4068-1152-47ac-86e8-08357b6fa043",
   "metadata": {},
   "outputs": [
    {
     "ename": "TypeError",
     "evalue": "'str' object does not support item assignment",
     "output_type": "error",
     "traceback": [
      "\u001b[1;31m---------------------------------------------------------------------------\u001b[0m",
      "\u001b[1;31mTypeError\u001b[0m                                 Traceback (most recent call last)",
      "\u001b[1;32m~\\AppData\\Local\\Temp/ipykernel_17512/4222487947.py\u001b[0m in \u001b[0;36m<module>\u001b[1;34m\u001b[0m\n\u001b[0;32m      1\u001b[0m \u001b[1;31m# immutable\u001b[0m\u001b[1;33m\u001b[0m\u001b[1;33m\u001b[0m\u001b[0m\n\u001b[1;32m----> 2\u001b[1;33m \u001b[0mname\u001b[0m\u001b[1;33m[\u001b[0m\u001b[1;36m1\u001b[0m\u001b[1;33m]\u001b[0m \u001b[1;33m=\u001b[0m \u001b[1;34m'e'\u001b[0m \u001b[1;31m# 문자열은 수정이 불가\u001b[0m\u001b[1;33m\u001b[0m\u001b[1;33m\u001b[0m\u001b[0m\n\u001b[0m",
      "\u001b[1;31mTypeError\u001b[0m: 'str' object does not support item assignment"
     ]
    }
   ],
   "source": [
    "# immutable\n",
    "name[1] = 'e' # 문자열은 수정이 불가"
   ]
  },
  {
   "cell_type": "markdown",
   "id": "96e1ed98-5de7-44d0-bf6a-6b00d5a46b31",
   "metadata": {},
   "source": [
    "<br><br>\n",
    "### 슬라이싱, 추출\n",
    "- 문자열의 일부분을 떼어내는 작업\n",
    "- 대괄호 사용, 그 안에 오프셋을 지정\n",
    "    - 오프셋: 정해진 자리, 주소\n",
    "```python\n",
    "name[0]\n",
    "```\n",
    "- 오프셋은 0부터 시작한다. <br>\n",
    "   0 1 2 3<br>\n",
    "   j a c k\n",
    "    - 음수도 가능함. -1부터 시작 (= 뒤에서 시작)\n",
    "        - `-0 = 0`이므로, `a[0]`과 `a[-0]`은 동일한 값을 보임\n",
    "      <br><br>\n",
    "    - `[시작:끝:스텝]` (step = 1이 default)\n",
    "    - `시작`은 포함, `끝`은 포함하지 않음 (이상 - 미만)"
   ]
  },
  {
   "cell_type": "code",
   "execution_count": 30,
   "id": "5dc273c7-15cb-4a54-b282-866a6a8ab470",
   "metadata": {
    "tags": []
   },
   "outputs": [
    {
     "data": {
      "text/plain": [
       "('j', 'k')"
      ]
     },
     "execution_count": 30,
     "metadata": {},
     "output_type": "execute_result"
    }
   ],
   "source": [
    "name = 'jack'\n",
    "name[0], name[-1]"
   ]
  },
  {
   "cell_type": "code",
   "execution_count": 46,
   "id": "370727d1-3855-4909-a0b8-3a8be7c44a1c",
   "metadata": {},
   "outputs": [],
   "source": [
    "sent = 'hello, world'"
   ]
  },
  {
   "cell_type": "code",
   "execution_count": 47,
   "id": "ea816b64-14ee-432a-ae7e-b4fce32e2d8e",
   "metadata": {},
   "outputs": [
    {
     "data": {
      "text/plain": [
       "12"
      ]
     },
     "execution_count": 47,
     "metadata": {},
     "output_type": "execute_result"
    }
   ],
   "source": [
    "len(sent)"
   ]
  },
  {
   "cell_type": "code",
   "execution_count": 43,
   "id": "d5ea2a7a-5037-45ec-ab1f-e21b40434b22",
   "metadata": {},
   "outputs": [
    {
     "data": {
      "text/plain": [
       "'l'"
      ]
     },
     "execution_count": 43,
     "metadata": {},
     "output_type": "execute_result"
    }
   ],
   "source": [
    "sent[3:4] # 끝은 포함되지 않음"
   ]
  },
  {
   "cell_type": "code",
   "execution_count": 35,
   "id": "6ad990fd-5a01-492b-9e01-e67a8710a447",
   "metadata": {},
   "outputs": [
    {
     "data": {
      "text/plain": [
       "('hello,', 'hello,')"
      ]
     },
     "execution_count": 35,
     "metadata": {},
     "output_type": "execute_result"
    }
   ],
   "source": [
    "# 처음부터 5까지 출력\n",
    "sent[0:6], sent[:6]"
   ]
  },
  {
   "cell_type": "code",
   "execution_count": 49,
   "id": "396123a0-9bcb-4c03-b9e8-fc50ee27c064",
   "metadata": {},
   "outputs": [
    {
     "data": {
      "text/plain": [
       "('hlo ol', 'hlo ol')"
      ]
     },
     "execution_count": 49,
     "metadata": {},
     "output_type": "execute_result"
    }
   ],
   "source": [
    "# 처음부터 끝까지 2스텝씩 출력\n",
    "sent[::2], sent[0:12:2]"
   ]
  },
  {
   "cell_type": "code",
   "execution_count": 50,
   "id": "c2a5cd66-fa25-4ee7-bb87-a2a0fac2f9bd",
   "metadata": {},
   "outputs": [
    {
     "data": {
      "text/plain": [
       "'dlrow ,olleh'"
      ]
     },
     "execution_count": 50,
     "metadata": {},
     "output_type": "execute_result"
    }
   ],
   "source": [
    "# 모든 글자를 거꾸로 출력하세요\n",
    "sent[::-1]"
   ]
  },
  {
   "cell_type": "markdown",
   "id": "f9890b43-6dd6-4323-b492-6cea0664e71c",
   "metadata": {},
   "source": [
    "---"
   ]
  },
  {
   "cell_type": "markdown",
   "id": "ffc2b2ef-5772-4aee-99ac-00642b3e67fd",
   "metadata": {},
   "source": [
    "## NLTK"
   ]
  },
  {
   "cell_type": "markdown",
   "id": "33278548-4f4b-4120-970c-7ee1354db93c",
   "metadata": {},
   "source": [
    "- natural language toolkit\n",
    "- 자연어 분석을 위해 교육용으로 배포된 패키지\n",
    "- 내장함수, 기능들이 추가됨\n",
    "- tokenize, parsing, tagging 등의 처리가 되어 있는 corpus 제공"
   ]
  },
  {
   "cell_type": "code",
   "execution_count": 89,
   "id": "a54271f3-ceb0-4601-b04e-a01f11a4b4f5",
   "metadata": {},
   "outputs": [
    {
     "name": "stdout",
     "output_type": "stream",
     "text": [
      "Requirement already satisfied: nltk in c:\\users\\syui0\\anaconda3\\lib\\site-packages (3.6.5)\n",
      "Requirement already satisfied: click in c:\\users\\syui0\\anaconda3\\lib\\site-packages (from nltk) (8.0.3)\n",
      "Requirement already satisfied: joblib in c:\\users\\syui0\\anaconda3\\lib\\site-packages (from nltk) (1.1.0)\n",
      "Requirement already satisfied: regex>=2021.8.3 in c:\\users\\syui0\\anaconda3\\lib\\site-packages (from nltk) (2021.8.3)\n",
      "Requirement already satisfied: tqdm in c:\\users\\syui0\\anaconda3\\lib\\site-packages (from nltk) (4.62.3)\n",
      "Requirement already satisfied: colorama in c:\\users\\syui0\\anaconda3\\lib\\site-packages (from click->nltk) (0.4.4)\n"
     ]
    }
   ],
   "source": [
    "!pip install nltk"
   ]
  },
  {
   "cell_type": "code",
   "execution_count": 91,
   "id": "ec365749-60e1-4b39-b4ca-a347c2d3d4c1",
   "metadata": {},
   "outputs": [
    {
     "data": {
      "text/plain": [
       "True"
      ]
     },
     "execution_count": 91,
     "metadata": {},
     "output_type": "execute_result"
    }
   ],
   "source": [
    "import nltk # 가져오기\n",
    "nltk.download('book', quiet = True) # 부분적으로 다운받기"
   ]
  },
  {
   "cell_type": "code",
   "execution_count": 52,
   "id": "074ec4c1-ba33-454f-a5c7-1c6f93c41366",
   "metadata": {},
   "outputs": [
    {
     "name": "stdout",
     "output_type": "stream",
     "text": [
      "*** Introductory Examples for the NLTK Book ***\n",
      "Loading text1, ..., text9 and sent1, ..., sent9\n",
      "Type the name of the text or sentence to view it.\n",
      "Type: 'texts()' or 'sents()' to list the materials.\n",
      "text1: Moby Dick by Herman Melville 1851\n",
      "text2: Sense and Sensibility by Jane Austen 1811\n",
      "text3: The Book of Genesis\n",
      "text4: Inaugural Address Corpus\n",
      "text5: Chat Corpus\n",
      "text6: Monty Python and the Holy Grail\n",
      "text7: Wall Street Journal\n",
      "text8: Personals Corpus\n",
      "text9: The Man Who Was Thursday by G . K . Chesterton 1908\n"
     ]
    }
   ],
   "source": [
    "from nltk import book # 가져오기"
   ]
  },
  {
   "cell_type": "code",
   "execution_count": 53,
   "id": "ad86806c-3153-419a-bb33-d3250ace20ff",
   "metadata": {},
   "outputs": [
    {
     "data": {
      "text/plain": [
       "['[',\n",
       " 'Moby',\n",
       " 'Dick',\n",
       " 'by',\n",
       " 'Herman',\n",
       " 'Melville',\n",
       " '1851',\n",
       " ']',\n",
       " 'ETYMOLOGY',\n",
       " '.']"
      ]
     },
     "execution_count": 53,
     "metadata": {},
     "output_type": "execute_result"
    }
   ],
   "source": [
    "moby = book.text1\n",
    "moby.tokens[:10] # 토큰에 접근하는 방법\n",
    "\n",
    "#토큰: 프로그래밍의 단어 단위 hello world -> hello, world\n",
    "   #I'm not a coward.\n",
    "   #I'm / I / 'm / I, am 개발자마다 자르는 방식이 다르다"
   ]
  },
  {
   "cell_type": "code",
   "execution_count": 99,
   "id": "8da0b2cb-b4f1-48dd-86fe-32921078d758",
   "metadata": {},
   "outputs": [
    {
     "data": {
      "text/plain": [
       "260819"
      ]
     },
     "execution_count": 99,
     "metadata": {},
     "output_type": "execute_result"
    }
   ],
   "source": [
    "#1. 길이 세기\n",
    "len(moby) #26만자"
   ]
  },
  {
   "cell_type": "code",
   "execution_count": 56,
   "id": "759a5313-e431-4643-a90f-8f61096cafed",
   "metadata": {},
   "outputs": [
    {
     "data": {
      "text/plain": [
       "19317"
      ]
     },
     "execution_count": 56,
     "metadata": {},
     "output_type": "execute_result"
    }
   ],
   "source": [
    "#2. 중복 없이 단어 몇 개?\n",
    "set(moby) # 중복 단어 제거\n",
    "len(set(moby)) # 1.9만 개 "
   ]
  },
  {
   "cell_type": "markdown",
   "id": "758caa1b-da8f-4881-bdb2-97bab30e50dd",
   "metadata": {},
   "source": [
    "- list\n",
    "    - `[`'a', a, True`]`\n",
    "    - 순서가 있음 - indexing 가능 -> iterable\n",
    "    - 중복 허용\n",
    "    - `list()` list로 만드는 함수\n",
    "    - mutable (요소 삭제/변경 가능)\n",
    "- set\n",
    "    - `{`'a', 2, True`}`\n",
    "    - 순서 없음 - indexing 불가 -> not iterable\n",
    "    - 중복 불가\n",
    "    - `set()` set로 만드는 함수\n",
    "    - 수학의 집합 개념"
   ]
  },
  {
   "cell_type": "code",
   "execution_count": 58,
   "id": "17523b81-e7e0-48d2-a876-94a7a74c1fc5",
   "metadata": {},
   "outputs": [
    {
     "data": {
      "text/plain": [
       "['kia', 'hyundai', 'renault', 'benz', 'benz', 'kia']"
      ]
     },
     "execution_count": 58,
     "metadata": {},
     "output_type": "execute_result"
    }
   ],
   "source": [
    "cars = ['kia','hyundai','renault', 'benz', 'benz','kia']\n",
    "cars"
   ]
  },
  {
   "cell_type": "code",
   "execution_count": 59,
   "id": "f46cf917-e253-45cd-9235-c2f7066b6fcc",
   "metadata": {},
   "outputs": [
    {
     "data": {
      "text/plain": [
       "{'benz', 'hyundai', 'kia', 'renault'}"
      ]
     },
     "execution_count": 59,
     "metadata": {},
     "output_type": "execute_result"
    }
   ],
   "source": [
    "set(cars) # 중복 제거"
   ]
  },
  {
   "cell_type": "code",
   "execution_count": 61,
   "id": "be5a604e-d943-4d20-818d-493aac9af89c",
   "metadata": {},
   "outputs": [
    {
     "data": {
      "text/plain": [
       "0.07406285585022564"
      ]
     },
     "execution_count": 61,
     "metadata": {},
     "output_type": "execute_result"
    }
   ],
   "source": [
    "# lexical diversity\n",
    "\n",
    "len(set(moby)) / len(moby)"
   ]
  },
  {
   "cell_type": "code",
   "execution_count": 66,
   "id": "d78529ef-c419-41df-b797-e80e8e3a982a",
   "metadata": {},
   "outputs": [
    {
     "data": {
      "text/plain": [
       "['renault', 'kia', 'kia', 'hyundai', 'benz', 'benz']"
      ]
     },
     "execution_count": 66,
     "metadata": {},
     "output_type": "execute_result"
    }
   ],
   "source": [
    "# 정렬 sorted()\n",
    "sorted(cars) # 알파벳순 정렬\n",
    "\n",
    "sorted(cars, reverse = True) # 알파벳 역순 정렬"
   ]
  },
  {
   "cell_type": "code",
   "execution_count": 67,
   "id": "f42eb13b-d7b6-4784-8ab2-0ed50f199817",
   "metadata": {},
   "outputs": [
    {
     "data": {
      "text/plain": [
       "['!', '7', 'H', 'n', 'ㅎ']"
      ]
     },
     "execution_count": 67,
     "metadata": {},
     "output_type": "execute_result"
    }
   ],
   "source": [
    "# 정렬 순서: 기본적으로 오름차순 (문장부호 -> 숫자 -> 대문자 -> 소문자 -> 한글)\n",
    "text_1 = ['7', 'n', 'H', 'ㅎ', '!']\n",
    "\n",
    "sorted(text_1)"
   ]
  },
  {
   "cell_type": "markdown",
   "id": "455a21d2-06a1-44a1-918a-70c31e322ef9",
   "metadata": {},
   "source": [
    "```python\n",
    "sorted(set(moby[:10])) # 뽑고 중복 없애고 정렬\n",
    "\n",
    "sorted(set(moby))[:10] # 중복 없애고 정렬하고 뽑고\n",
    "```"
   ]
  },
  {
   "cell_type": "markdown",
   "id": "891d8c1a-90cc-4872-bcf7-b2553690bb3c",
   "metadata": {},
   "source": [
    "<br><br>\n",
    "### Quiz 1\n",
    "- text6 가져와서 토큰을 변수에 담고 v\n",
    "- 중복 없는 셋으로 저장하고 내림차순 v\n",
    "    - 앞에서 10개 단어 출력 v\n",
    "    - 단어에 z가 있으면 대문자로 바꾸시오\n",
    "    - z가 없는데 길이가 4개 이상이면 끝 글자를 대문자로 바꾸라."
   ]
  },
  {
   "cell_type": "code",
   "execution_count": 3,
   "id": "ec9e2567-8f88-4371-bc95-979eb76066b9",
   "metadata": {},
   "outputs": [],
   "source": [
    "from nltk import book"
   ]
  },
  {
   "cell_type": "code",
   "execution_count": 15,
   "id": "61b0e8dc-fa43-452b-abf6-b1fce29f99a0",
   "metadata": {},
   "outputs": [
    {
     "data": {
      "text/plain": [
       "['Zoosh',\n",
       " 'Zoop',\n",
       " 'Zoo',\n",
       " 'Zone',\n",
       " 'Zhiv',\n",
       " 'yourselF',\n",
       " 'yourS',\n",
       " 'youR',\n",
       " 'younG',\n",
       " 'you']"
      ]
     },
     "execution_count": 15,
     "metadata": {},
     "output_type": "execute_result"
    }
   ],
   "source": [
    "s = book.text6\n",
    "s1 = sorted(set(s), reverse = True)[:10]\n",
    "    \n",
    "for i in range(len(s1)):\n",
    "    # 단어에 z가 있으면 대문자로 바꾼다\n",
    "    if 'z' in s1[i]:\n",
    "        s1[i] = s1[i].replace('z', 'Z') \n",
    "    # 단어에 z가 없고 길이가 4개 이상이면 끝 글자를 대문자로 바꾼다    \n",
    "    elif 'z' not in m1[i] and len(m1[i]) >= 4:\n",
    "        s1[i] = s1[i][:-1] + s1[i][-1].upper()\n",
    "        \n",
    "s1"
   ]
  },
  {
   "cell_type": "markdown",
   "id": "608eb030-fa04-4f2d-b8aa-18b667f41ba0",
   "metadata": {},
   "source": [
    "<br><br>\n",
    "### Quiz 2\n",
    "- 주민번호, 휴대폰 번호, 이메일 주소 입력 받는다.\n",
    "- 주민번호, 휴대폰 번호는 숫자만 입력받는다 (- 없이)\n",
    "- 이메일주소는 아이디만 입력받는다. (@이하는 안 받는다)\n",
    "    - 1. \"당신은 {}년 {}월 {}일 출생의 {남성/여성}입니다.\"\n",
    "    - 2. 휴대폰 번호: 000-0000-0000\n",
    "    - 3. 이메일 주소: xxxx@gmail.com"
   ]
  },
  {
   "cell_type": "code",
   "execution_count": 167,
   "id": "5f34f90c-f6af-43ba-b20a-c3a38d1d929e",
   "metadata": {},
   "outputs": [
    {
     "name": "stdin",
     "output_type": "stream",
     "text": [
      "주민등록번호를 입력하세요 하이픈 없이 입력하세요: 0203114000000\n",
      "전화번호를 입력하세요 하이픈 없이 입력하세요: 01012345678\n",
      "이메일 주소 중 사용자 이름 부분을 입력하세요 \n",
      ">> (abcd1234@gmail.com일 경우, abcd1234만을 입력): haleyhyunjikim\n"
     ]
    },
    {
     "name": "stdout",
     "output_type": "stream",
     "text": [
      "\n",
      "당신은 2002년 3월 11일 출생의 여성입니다.\n",
      "휴대폰 번호:010-1234-5678\n",
      "이메일 주소:haleyhyunjikim@gmail.com\n"
     ]
    }
   ],
   "source": [
    "resident_num = input('주민등록번호를 입력하세요 하이픈 없이 입력하세요:')\n",
    "phone_num = list(input('전화번호를 입력하세요 하이픈 없이 입력하세요:'))\n",
    "email = input('이메일 주소 중 사용자 이름 부분을 입력하세요 \\n>> (abcd1234@gmail.com일 경우, abcd1234만을 입력):')\n",
    "\n",
    "# 주민등록번호로부터 생년월일 추출\n",
    "year = resident_num[0:2]\n",
    "month = resident_num[2:4]\n",
    "date = resident_num[4:6]\n",
    "\n",
    "# 생년 앞 두 글자(19XX or 20XX), 성별\n",
    "if resident_num[6] == '1':\n",
    "    cent = 19 ; gender = '남성'  #19XX년생 남성\n",
    "elif resident_num[6] == '3':\n",
    "    cent = 20 ; gender = '남성' # 20XX년생 남성\n",
    "elif resident_num[6] == '2':\n",
    "    cent = 19 ; gender = '여성' # 19XX년생 여성\n",
    "elif resident_num[6] == '4':\n",
    "    cent = 20 ; gender = '여성' # 20XX년생 여성\n",
    "    \n",
    "# 전화번호에 하이픈 삽입\n",
    "phone_num.insert(3,'-')\n",
    "phone_num.insert(8, '-')\n",
    "phone_num_hypen = ''.join(phone_num)\n",
    "\n",
    "# 결과 (생월 첫 글자가 0이라면 없앤다)\n",
    "print(f'''\n",
    "당신은 {cent}{year}년 {month.lstrip('0')}월 {date}일 출생의 {gender}입니다.\n",
    "휴대폰 번호:{phone_num_hypen}\n",
    "이메일 주소:{email}@gmail.com''')"
   ]
  }
 ],
 "metadata": {
  "kernelspec": {
   "display_name": "Python 3 (ipykernel)",
   "language": "python",
   "name": "python3"
  },
  "language_info": {
   "codemirror_mode": {
    "name": "ipython",
    "version": 3
   },
   "file_extension": ".py",
   "mimetype": "text/x-python",
   "name": "python",
   "nbconvert_exporter": "python",
   "pygments_lexer": "ipython3",
   "version": "3.9.7"
  }
 },
 "nbformat": 4,
 "nbformat_minor": 5
}
