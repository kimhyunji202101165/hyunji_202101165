{
  "nbformat": 4,
  "nbformat_minor": 0,
  "metadata": {
    "colab": {
      "name": "week_04.ipynb",
      "provenance": [],
      "collapsed_sections": []
    },
    "kernelspec": {
      "name": "python3",
      "display_name": "Python 3"
    },
    "language_info": {
      "name": "python"
    }
  },
  "cells": [
    {
      "cell_type": "code",
      "execution_count": 27,
      "metadata": {
        "colab": {
          "base_uri": "https://localhost:8080/"
        },
        "id": "RcCNq2GI_iIt",
        "outputId": "69666b34-8e33-40a2-e1b5-27bce23455b3"
      },
      "outputs": [
        {
          "output_type": "execute_result",
          "data": {
            "text/plain": [
              "True"
            ]
          },
          "metadata": {},
          "execution_count": 27
        }
      ],
      "source": [
        "import nltk\n",
        "from nltk import * # nltk book에서 전부(*) 가져오기\n",
        "nltk.download('book', quiet = True)"
      ]
    },
    {
      "cell_type": "markdown",
      "source": [
        "# 내장함수 I\n",
        "\n",
        "```\n",
        "string1.method(string2)\n",
        "list.method(string)\n",
        "```\n",
        "\n",
        "`list`.`count`(`string`) : string이 나타나는 개수<br>\n",
        "`var.replace(string1, string2)` : `string1`을 `string2`로 변경<br>\n",
        "`strip()` : 특정 문자(공백 등) 제거\n",
        "  - +) lstrip, rstrip\n",
        "\n",
        "`find(string)` : offset을 반환\n",
        "  - lfind, rfind\n",
        "  - 공백 포함\n",
        "  - 첫 번째 값의 index\n",
        "  - 만족하는 값이 없는 경우, -1을 반환\n",
        "  - `index()`는 만족하는 값이 없는 경우, 에러 발생"
      ],
      "metadata": {
        "id": "nWAqxxZHxSK3"
      }
    },
    {
      "cell_type": "markdown",
      "source": [
        "## `count`\n",
        "사용 방법: var.count(찾는 요소)"
      ],
      "metadata": {
        "id": "584TlViL3Htu"
      }
    },
    {
      "cell_type": "code",
      "source": [
        "# tuple\n",
        "t1 = (1, 2, 2, 2, 3)\n",
        "t1.count(2) # 3"
      ],
      "metadata": {
        "colab": {
          "base_uri": "https://localhost:8080/"
        },
        "id": "G85ATd7Y3NG8",
        "outputId": "b30a13f1-8c01-4055-a961-0bb5775db332"
      },
      "execution_count": 13,
      "outputs": [
        {
          "output_type": "execute_result",
          "data": {
            "text/plain": [
              "3"
            ]
          },
          "metadata": {},
          "execution_count": 13
        }
      ]
    },
    {
      "cell_type": "code",
      "source": [
        "# list\n",
        "l1 = [1, 2, 2, 3]\n",
        "l1 .count(2) # 2"
      ],
      "metadata": {
        "colab": {
          "base_uri": "https://localhost:8080/"
        },
        "id": "6_TAZDQF8jhJ",
        "outputId": "a3294e82-51fa-4e56-d08d-5265a29e4df0"
      },
      "execution_count": 14,
      "outputs": [
        {
          "output_type": "execute_result",
          "data": {
            "text/plain": [
              "2"
            ]
          },
          "metadata": {},
          "execution_count": 14
        }
      ]
    },
    {
      "cell_type": "code",
      "source": [
        "# set\n",
        "s1 = {3, 4, 5, 5, 6}\n",
        "s1.count(5) # AttributeError: 'set' object has no attribute 'count'"
      ],
      "metadata": {
        "id": "NYx8R-bG8rgK"
      },
      "execution_count": null,
      "outputs": []
    },
    {
      "cell_type": "code",
      "source": [
        "# string\n",
        "'kimhyunji'.count('i') # 2\n",
        "\n",
        "name = 'kimhyunji'\n",
        "name.count('i') # 2"
      ],
      "metadata": {
        "colab": {
          "base_uri": "https://localhost:8080/"
        },
        "id": "mpphhuw39Iat",
        "outputId": "ed9a5f79-d5e3-46d4-ca74-e942fd655005"
      },
      "execution_count": 17,
      "outputs": [
        {
          "output_type": "execute_result",
          "data": {
            "text/plain": [
              "2"
            ]
          },
          "metadata": {},
          "execution_count": 17
        }
      ]
    },
    {
      "cell_type": "code",
      "source": [
        "# dictionary\n",
        "d1 = {'a': 1, 'b': 2, 'c': 3}\n",
        "d1.count('a') # AttributeError: 'dict' object has no attribute 'count'"
      ],
      "metadata": {
        "id": "VPU-6Lqw9dFx"
      },
      "execution_count": null,
      "outputs": []
    },
    {
      "cell_type": "markdown",
      "source": [
        "## `replace`\n",
        "사용 방법: var.replace(old, new, count)\n",
        "\n",
        "- old: 현재 문자열에서 변경하고 싶은 문자\n",
        "- new: 새로 바꿀 문자\n",
        "- count: 앞에서부터 변경할 횟수\n",
        "  - 입력하지 않으면 old 문자열 전체를 변경한다 \n",
        "    - default는 전체를 의미하는 count = -1"
      ],
      "metadata": {
        "id": "sZYwrPih-0qt"
      }
    },
    {
      "cell_type": "code",
      "source": [
        "# str.replace(old, new)\n",
        "'hyunji_202101165'.replace('h', 'H') # 'Hyunji_202101165'\n",
        "\n",
        "# var.replace(old, new)\n",
        "name_num = 'hyunji_202101165'\n",
        "name_num.replace('h', 'H') # 'Hyunji_202101165'"
      ],
      "metadata": {
        "colab": {
          "base_uri": "https://localhost:8080/",
          "height": 35
        },
        "id": "kDMOGTVu_ptj",
        "outputId": "0d67065e-4122-4c55-9afe-378341d1ce45"
      },
      "execution_count": 19,
      "outputs": [
        {
          "output_type": "execute_result",
          "data": {
            "text/plain": [
              "'Hyunji_202101165'"
            ],
            "application/vnd.google.colaboratory.intrinsic+json": {
              "type": "string"
            }
          },
          "metadata": {},
          "execution_count": 19
        }
      ]
    },
    {
      "cell_type": "code",
      "source": [
        "# str.replace(old, new, count)\n",
        "\n",
        "'AAAAA'.replace('A', 'B', 3) # BBBAA - 앞에서부터 세 번 변경"
      ],
      "metadata": {
        "colab": {
          "base_uri": "https://localhost:8080/",
          "height": 35
        },
        "id": "WO8-Om4OAJzR",
        "outputId": "8ff8db8d-75c1-4020-dedc-b7e5fff7ed09"
      },
      "execution_count": 20,
      "outputs": [
        {
          "output_type": "execute_result",
          "data": {
            "text/plain": [
              "'BBBAA'"
            ],
            "application/vnd.google.colaboratory.intrinsic+json": {
              "type": "string"
            }
          },
          "metadata": {},
          "execution_count": 20
        }
      ]
    },
    {
      "cell_type": "markdown",
      "source": [
        "## `strip()`\n",
        "- `strip()`: 인자로 전달된 문자를 string의 **왼쪽**과 **오른쪽**에서 제거\n",
        "- `lstrip()`: **왼쪽**에서 제거\n",
        "- `rstrip()`: **오른쪽**에서 제거\n",
        "\n",
        "인자를 전달하지 않을 수도 있으며, 그때는 공백을 제거"
      ],
      "metadata": {
        "id": "t2LymX4-CqzI"
      }
    },
    {
      "cell_type": "code",
      "source": [
        "# 인자 전달하지 않았을 때\n",
        "text_1 = '    In heaven, all they talk about is the ocean.    '\n",
        "print('[ '+ text_1.rstrip() + ']')\n",
        "print('[ '+ text_1.lstrip() + ']')\n",
        "print('[ '+ text_1.strip() + ']')\n",
        "\n",
        "# [     In heaven, ... all they talk about is the ocean.]\n",
        "# [ In heaven, ... all they talk about is the ocean.    ]\n",
        "# [ In heaven, ... all they talk about is the ocean.]"
      ],
      "metadata": {
        "colab": {
          "base_uri": "https://localhost:8080/"
        },
        "id": "I9_Ax1bCDLBv",
        "outputId": "9fcd78f6-f286-4b22-b491-1dbc1402d988"
      },
      "execution_count": 21,
      "outputs": [
        {
          "output_type": "stream",
          "name": "stdout",
          "text": [
            "[     In heaven, all they talk about is the ocean.]\n",
            "[ In heaven, all they talk about is the ocean.    ]\n",
            "[ In heaven, all they talk about is the ocean.]\n"
          ]
        }
      ]
    },
    {
      "cell_type": "code",
      "source": [
        "# 동일한 문자 제거 \n",
        "# 인자로 문자 1개를 전달하면 양 옆에 있는 그 문자를 모두 제거\n",
        "text_2 = '...In heaven, ... all they talk about is the ocean...'\n",
        "print(text_2.lstrip('.'))\n",
        "print(text_2.rstrip('.'))\n",
        "print(text_2.strip('.'))\n",
        "\n",
        "# In heaven, ... all they talk about is the ocean...\n",
        "# ...In heaven, ... all they talk about is the ocean\n",
        "# In heaven, ... all they talk about is the ocean"
      ],
      "metadata": {
        "colab": {
          "base_uri": "https://localhost:8080/"
        },
        "id": "RWn2gMmvD-Bb",
        "outputId": "30b12e5b-31f0-45a4-d369-e00f74fdb4d7"
      },
      "execution_count": 22,
      "outputs": [
        {
          "output_type": "stream",
          "name": "stdout",
          "text": [
            "In heaven, ... all they talk about is the ocean...\n",
            "...In heaven, ... all they talk about is the ocean\n",
            "In heaven, ... all they talk about is the ocean\n"
          ]
        }
      ]
    },
    {
      "cell_type": "code",
      "source": [
        "word = '    yes    '\n",
        "word.replace('s', 'ah').strip().replace('y', 'Y') # yeah - 한 줄에 여러 개 사용 가능"
      ],
      "metadata": {
        "colab": {
          "base_uri": "https://localhost:8080/",
          "height": 35
        },
        "id": "x7YdVBYQFcnA",
        "outputId": "4dc1f021-8af4-4bfe-f6e9-3486ef3f66c7"
      },
      "execution_count": 23,
      "outputs": [
        {
          "output_type": "execute_result",
          "data": {
            "text/plain": [
              "'Yeah'"
            ],
            "application/vnd.google.colaboratory.intrinsic+json": {
              "type": "string"
            }
          },
          "metadata": {},
          "execution_count": 23
        }
      ]
    },
    {
      "cell_type": "markdown",
      "source": [
        "## `find`\n",
        "\n",
        "- string.find(찾을 문자)\n",
        "- string.find(찾을 문자, 시작 index)\n",
        "  - **어디서부**터 찾을지, 생략시 0\n",
        "- string.find(찾을 문자, 시작 index, 끝 index) \n",
        "  - 어디서부터 **어디까지** 찾을지, 생략시 문자열의 맨 마지막 index\n",
        "\n",
        "찾을 문자의 offset을 반환\n",
        "  - offset: 문자열을 작성하게 되면, 각 문자마다 고유의 번호가 매겨지는데 이 번호를 offset이라 한다"
      ],
      "metadata": {
        "id": "trPa_vONHxCn"
      }
    },
    {
      "cell_type": "code",
      "source": [
        "text_3 = 'In heaven, all they talk about is the ocean.'\n",
        "text_3.find('heaven') # 3 (찾으려는 문자열이 시작되는 offset을 반환)\n",
        "text_3.find('a') # 5"
      ],
      "metadata": {
        "colab": {
          "base_uri": "https://localhost:8080/"
        },
        "id": "yJ_l5paxHFF6",
        "outputId": "28d308df-e651-47ed-87f2-cb5affc97cf3"
      },
      "execution_count": 86,
      "outputs": [
        {
          "output_type": "execute_result",
          "data": {
            "text/plain": [
              "5"
            ]
          },
          "metadata": {},
          "execution_count": 86
        }
      ]
    },
    {
      "cell_type": "code",
      "source": [
        "text.find('z') # -1 (찾으려는 문자가 없을시 -1 반환)\n",
        "text.index('z') # ValueError: substring not found"
      ],
      "metadata": {
        "id": "GQd2H9CoIPD_"
      },
      "execution_count": null,
      "outputs": []
    },
    {
      "cell_type": "markdown",
      "source": [
        "\n",
        "\n",
        "---\n",
        "\n",
        "\n",
        "\n",
        "---\n",
        "\n"
      ],
      "metadata": {
        "id": "60vKIQuEN_ds"
      }
    },
    {
      "cell_type": "markdown",
      "source": [
        "# NLTK 내장 함수\n",
        "\n",
        "- list.method(var)\n",
        "- 자연어처리와 관련된 함수들"
      ],
      "metadata": {
        "id": "cM38CUPXNpT1"
      }
    },
    {
      "cell_type": "markdown",
      "source": [
        "## `concordance()`: string의 앞뒤 문맥을 알 수 있음"
      ],
      "metadata": {
        "id": "3Mg0syAXOfFJ"
      }
    },
    {
      "cell_type": "code",
      "source": [
        "import nltk\n",
        "from nltk import * # nltk book에서 전부(*) 가져오기\n",
        "nltk.download('book', quiet = True)\n",
        "from nltk.book import *"
      ],
      "metadata": {
        "colab": {
          "base_uri": "https://localhost:8080/"
        },
        "id": "FaK_D3VFClwc",
        "outputId": "bb9b6abf-9339-4a0f-b562-d32e45cb256a"
      },
      "execution_count": 33,
      "outputs": [
        {
          "output_type": "stream",
          "name": "stdout",
          "text": [
            "*** Introductory Examples for the NLTK Book ***\n",
            "Loading text1, ..., text9 and sent1, ..., sent9\n",
            "Type the name of the text or sentence to view it.\n",
            "Type: 'texts()' or 'sents()' to list the materials.\n",
            "text1: Moby Dick by Herman Melville 1851\n",
            "text2: Sense and Sensibility by Jane Austen 1811\n",
            "text3: The Book of Genesis\n",
            "text4: Inaugural Address Corpus\n",
            "text5: Chat Corpus\n",
            "text6: Monty Python and the Holy Grail\n",
            "text7: Wall Street Journal\n",
            "text8: Personals Corpus\n",
            "text9: The Man Who Was Thursday by G . K . Chesterton 1908\n"
          ]
        }
      ]
    },
    {
      "cell_type": "code",
      "source": [
        "text1.concordance('whale') # whale이 포함된 문장을 해당 단어를 중심에 두고 출력"
      ],
      "metadata": {
        "colab": {
          "base_uri": "https://localhost:8080/"
        },
        "id": "vUkFGN3fNO5n",
        "outputId": "34fc5adc-b6dd-43e8-ecbc-cffd6b24f4dd"
      },
      "execution_count": 34,
      "outputs": [
        {
          "output_type": "stream",
          "name": "stdout",
          "text": [
            "Displaying 25 of 1226 matches:\n",
            "s , and to teach them by what name a whale - fish is to be called in our tongue\n",
            "t which is not true .\" -- HACKLUYT \" WHALE . ... Sw . and Dan . HVAL . This ani\n",
            "ulted .\" -- WEBSTER ' S DICTIONARY \" WHALE . ... It is more immediately from th\n",
            "ISH . WAL , DUTCH . HWAL , SWEDISH . WHALE , ICELANDIC . WHALE , ENGLISH . BALE\n",
            "HWAL , SWEDISH . WHALE , ICELANDIC . WHALE , ENGLISH . BALEINE , FRENCH . BALLE\n",
            "least , take the higgledy - piggledy whale statements , however authentic , in \n",
            " dreadful gulf of this monster ' s ( whale ' s ) mouth , are immediately lost a\n",
            " patient Job .\" -- RABELAIS . \" This whale ' s liver was two cartloads .\" -- ST\n",
            " Touching that monstrous bulk of the whale or ork we have received nothing cert\n",
            " of oil will be extracted out of one whale .\" -- IBID . \" HISTORY OF LIFE AND D\n",
            "ise .\" -- KING HENRY . \" Very like a whale .\" -- HAMLET . \" Which to secure , n\n",
            "restless paine , Like as the wounded whale to shore flies thro ' the maine .\" -\n",
            ". OF SPERMA CETI AND THE SPERMA CETI WHALE . VIDE HIS V . E . \" Like Spencer ' \n",
            "t had been a sprat in the mouth of a whale .\" -- PILGRIM ' S PROGRESS . \" That \n",
            "EN ' S ANNUS MIRABILIS . \" While the whale is floating at the stern of the ship\n",
            "e ship called The Jonas - in - the - Whale . ... Some say the whale can ' t ope\n",
            " in - the - Whale . ... Some say the whale can ' t open his mouth , but that is\n",
            " masts to see whether they can see a whale , for the first discoverer has a duc\n",
            " for his pains . ... I was told of a whale taken near Shetland , that had above\n",
            "oneers told me that he caught once a whale in Spitzbergen that was white all ov\n",
            "2 , one eighty feet in length of the whale - bone kind came in , which ( as I w\n",
            "n master and kill this Sperma - ceti whale , for I could never hear of any of t\n",
            " . 1729 . \"... and the breath of the whale is frequendy attended with such an i\n",
            "ed with hoops and armed with ribs of whale .\" -- RAPE OF THE LOCK . \" If we com\n",
            "contemptible in the comparison . The whale is doubtless the largest animal in c\n"
          ]
        }
      ]
    },
    {
      "cell_type": "markdown",
      "source": [
        "## `similar()`: 문맥이 비슷한 단어들\n",
        "주어진 단어 대신 사용된 횟수가 높은 단어들을 찾는다"
      ],
      "metadata": {
        "id": "VYvpt6XoO95y"
      }
    },
    {
      "cell_type": "code",
      "source": [
        "text1.similar('whale') # whales가 사용된 문장 반환"
      ],
      "metadata": {
        "colab": {
          "base_uri": "https://localhost:8080/"
        },
        "id": "QCFXNaNXPC_A",
        "outputId": "7191d289-a6ca-4069-ed23-499b0ed673a3"
      },
      "execution_count": 35,
      "outputs": [
        {
          "output_type": "stream",
          "name": "stdout",
          "text": [
            "ship boat sea time captain world man deck pequod other whales air\n",
            "water head crew line thing side way body\n"
          ]
        }
      ]
    },
    {
      "cell_type": "markdown",
      "source": [
        "## `common_context()`: 주어진 두 스트링이 어떤 문맥을 공유하는지"
      ],
      "metadata": {
        "id": "NeX1QeUvPD7S"
      }
    },
    {
      "cell_type": "code",
      "source": [
        "text2.common_contexts(['monstrous', 'very']) # 언더바(_)에 두 단어가 모두 사용됐음"
      ],
      "metadata": {
        "colab": {
          "base_uri": "https://localhost:8080/"
        },
        "id": "5lxDvEwYPJbK",
        "outputId": "bd48e9d4-77f9-419e-9527-082988d93676"
      },
      "execution_count": 38,
      "outputs": [
        {
          "output_type": "stream",
          "name": "stdout",
          "text": [
            "a_pretty am_glad a_lucky is_pretty be_glad\n"
          ]
        }
      ]
    },
    {
      "cell_type": "markdown",
      "source": [
        "## `dispersion_plot()`: 주어진 스트링이 텍스트에서 출현하는 위치를 나타냄"
      ],
      "metadata": {
        "id": "5PF7tP-1PKAK"
      }
    },
    {
      "cell_type": "code",
      "source": [
        "text4.dispersion_plot(['citizens', 'America', 'freedom']) # 산점도 그래프가 출력된다"
      ],
      "metadata": {
        "colab": {
          "base_uri": "https://localhost:8080/",
          "height": 295
        },
        "id": "jF4uiHabPQH7",
        "outputId": "36720cdd-adff-42f5-ce22-2ed24a586a2a"
      },
      "execution_count": 41,
      "outputs": [
        {
          "output_type": "display_data",
          "data": {
            "text/plain": [
              "<Figure size 432x288 with 1 Axes>"
            ],
            "image/png": "[encoded data removed]"
          },
          "metadata": {
            "needs_background": "light"
          }
        }
      ]
    },
    {
      "cell_type": "markdown",
      "source": [
        "## Frequency Distribution\n",
        "\n",
        "- 인간의 언어를 컴퓨터가 인식할 수 있게 하는 것이 자연어 처리\n",
        "- 단어의 빈도수를 활용할 수 있는 많은 메소드 제공\n",
        "  - 전체 단어 수\n",
        "  - 특정 단어의 빈도수"
      ],
      "metadata": {
        "id": "8TvoQsJtVJCX"
      }
    },
    {
      "cell_type": "code",
      "source": [
        "fdist = FreqDist(text1)\n",
        "fdist # dictionary 형태로 출력 {word: frequency}"
      ],
      "metadata": {
        "id": "HB2dXzXvU0Gq"
      },
      "execution_count": null,
      "outputs": []
    },
    {
      "cell_type": "code",
      "source": [
        "fdist.most_common(10) # 제일 자주 쓰인 top 10 출력"
      ],
      "metadata": {
        "colab": {
          "base_uri": "https://localhost:8080/"
        },
        "id": "VFgMipX4Vx8_",
        "outputId": "92d65bab-e77a-4160-ea81-364d27f0ff34"
      },
      "execution_count": 44,
      "outputs": [
        {
          "output_type": "execute_result",
          "data": {
            "text/plain": [
              "[(',', 18713),\n",
              " ('the', 13721),\n",
              " ('.', 6862),\n",
              " ('of', 6536),\n",
              " ('and', 6024),\n",
              " ('a', 4569),\n",
              " ('to', 4542),\n",
              " (';', 4072),\n",
              " ('in', 3916),\n",
              " ('that', 2982)]"
            ]
          },
          "metadata": {},
          "execution_count": 44
        }
      ]
    },
    {
      "cell_type": "code",
      "source": [
        "fdist.plot(50, cumulative = True) # frequency top 50 누적 히스토그램"
      ],
      "metadata": {
        "colab": {
          "base_uri": "https://localhost:8080/",
          "height": 299
        },
        "id": "p9GoIdeBWTiE",
        "outputId": "0447547e-eb09-47c8-e040-2655da7f0382"
      },
      "execution_count": 43,
      "outputs": [
        {
          "output_type": "display_data",
          "data": {
            "text/plain": [
              "<Figure size 432x288 with 1 Axes>"
            ],
            "image/png": "[encoded data removed]"
          },
          "metadata": {
            "needs_background": "light"
          }
        }
      ]
    },
    {
      "cell_type": "code",
      "source": [
        "fdist.plot(50, cumulative=False) # default는 False, 누적 X"
      ],
      "metadata": {
        "colab": {
          "base_uri": "https://localhost:8080/",
          "height": 299
        },
        "id": "cKYQN6eKW-wv",
        "outputId": "5e94f2fe-9cd3-47fb-c6a5-00fe7cbe349a"
      },
      "execution_count": 48,
      "outputs": [
        {
          "output_type": "display_data",
          "data": {
            "text/plain": [
              "<Figure size 432x288 with 1 Axes>"
            ],
            "image/png": "[encoded data removed]"
          },
          "metadata": {
            "needs_background": "light"
          }
        }
      ]
    },
    {
      "cell_type": "code",
      "source": [
        "# 한 번만 나타나는 단어들\n",
        "\n",
        "len(fdist.hapaxes()) # 중복 안 됨\n",
        "\n",
        "# fdist.hapaxes(): 한 번만 나타난 단어의 리스트를 반환한다"
      ],
      "metadata": {
        "colab": {
          "base_uri": "https://localhost:8080/"
        },
        "id": "ng_yBCDHDeRA",
        "outputId": "94801446-b52b-4e85-98f5-3f644495d2e9"
      },
      "execution_count": 50,
      "outputs": [
        {
          "output_type": "execute_result",
          "data": {
            "text/plain": [
              "9002"
            ]
          },
          "metadata": {},
          "execution_count": 50
        }
      ]
    },
    {
      "cell_type": "markdown",
      "source": [
        "## list\n",
        "\n",
        "Array(배열)\n",
        "- 여러 원소를 하나의 묶음으로 관리하고 각 원소 간에 순서가 존재하여 index를 통해 접근하는 리스트 - list와 tuple이 있다\n",
        "- 통상 프로그래밍 언어에서 배열은 동일한 데이터 타입의 원소들로 구성되지만, 파이썬에서는 각 원소의 데이터 type이 동일하지 않아도 되고(`a = [1, 'A', True]`), 심지어 다른 배열을 원소로 갖는 것(`a= [1, 2, [1, 2, 3]]`)도 허용된다\n",
        "\n",
        "list\n",
        "- 대괄호로 선언 (`a = [1, 2, 3, 4]`)\n",
        "- 내부 요소들은 자료형이 달라도 됨\n",
        "  - `a = [1, True, 'hello']`\n",
        "- 순서가 있다 => indexing, slicing 가능\n",
        "- 빈 리스트 선언 가능 `a = list()`, `a = []` \n"
      ],
      "metadata": {
        "id": "NOolnKOyE48B"
      }
    },
    {
      "cell_type": "code",
      "source": [
        "# 내부 요소들은 자료형이 달라도 된다\n",
        "l2 = [1, True, 'hello']\n",
        "l2[0] # 1"
      ],
      "metadata": {
        "colab": {
          "base_uri": "https://localhost:8080/"
        },
        "id": "6WBY0PXSEMCD",
        "outputId": "6772e037-244e-4f8e-f3af-1056871db7fb"
      },
      "execution_count": 54,
      "outputs": [
        {
          "output_type": "execute_result",
          "data": {
            "text/plain": [
              "1"
            ]
          },
          "metadata": {},
          "execution_count": 54
        }
      ]
    },
    {
      "cell_type": "code",
      "source": [
        "# 빈 리스트 선언\n",
        "l3 = []\n",
        "l3 = list()\n",
        "l3 # []"
      ],
      "metadata": {
        "colab": {
          "base_uri": "https://localhost:8080/"
        },
        "id": "s649QXkGEy6v",
        "outputId": "a1c00c43-2646-44b9-8885-755b3e2984d1"
      },
      "execution_count": 58,
      "outputs": [
        {
          "output_type": "execute_result",
          "data": {
            "text/plain": [
              "[]"
            ]
          },
          "metadata": {},
          "execution_count": 58
        }
      ]
    },
    {
      "cell_type": "code",
      "source": [
        "drinks = ['rum', 'mojito', 'soju']\n",
        "drinks[-1] # 'soju'\n",
        "drinks[01] # SyntaxError: invalid token"
      ],
      "metadata": {
        "id": "M-tgXWEvIWTY"
      },
      "execution_count": null,
      "outputs": []
    },
    {
      "cell_type": "code",
      "source": [
        "# drinks에서 soju의 offset을 알고 싶다\n",
        "\n",
        "drinks.index('soju') # 2"
      ],
      "metadata": {
        "colab": {
          "base_uri": "https://localhost:8080/"
        },
        "id": "WYf_JAcqIjtp",
        "outputId": "bcda2c9e-fbdf-4eef-a5cd-a5b3f0403cdf"
      },
      "execution_count": 62,
      "outputs": [
        {
          "output_type": "execute_result",
          "data": {
            "text/plain": [
              "2"
            ]
          },
          "metadata": {},
          "execution_count": 62
        }
      ]
    },
    {
      "cell_type": "markdown",
      "source": [
        "## list comprehension(지능형 리스트)\n",
        "\n",
        "- 주어진 리스트에서 포함하는 새로운 리스트를 형성하는 것\n",
        "- list + for_loop 한 줄로 해결되는 방식\n",
        "  - 코드가 간결해지고 성능이 좋은 코드를 작성할 수 있기도\n",
        "- `A for A' in B`\n",
        "  - B에 있는 A'에서 A를 가진 리스트를 반환\n",
        "    - B: 기존의 리스트\n",
        "    - A': B의 자료 형태\n",
        "    - A: 새로운 리스트의 요소\n",
        "- 조건+ : `[A for A' in B if <조건식>]`\n",
        "  - `[A for A' in B if <조건식> and <조건식>, ...]`"
      ],
      "metadata": {
        "id": "kEQgD0LjI5Fz"
      }
    },
    {
      "cell_type": "markdown",
      "source": [
        "## `[A for B in C]`\n",
        "\n",
        "A: 최종적으로 리스트에 들어갈 요소\n",
        "- 함수 호출도 되고, 계산식이어도 된다\n",
        "- B를 활용할 수 있다(대부분 활용한다)\n",
        "\n",
        "B: C의 요소 하나하나를 나타낸다\n",
        "\n",
        "C: 지능형 리스트에서 활용할 또 다른 리스트"
      ],
      "metadata": {
        "id": "EsITdf_HLwhm"
      }
    },
    {
      "cell_type": "code",
      "source": [
        "drinks = ['rum', 'mojito', 'soju']\n",
        "[d[0] for d in drinks] # ['r', 'm', 's']"
      ],
      "metadata": {
        "colab": {
          "base_uri": "https://localhost:8080/"
        },
        "id": "SgCnQa9jIxQJ",
        "outputId": "4a9da4a6-dc4e-48af-e0ad-597b4312c29b"
      },
      "execution_count": 71,
      "outputs": [
        {
          "output_type": "execute_result",
          "data": {
            "text/plain": [
              "['r', 'm', 's']"
            ]
          },
          "metadata": {},
          "execution_count": 71
        }
      ]
    },
    {
      "cell_type": "code",
      "source": [
        "# text1에서 10자 이상 단어\n",
        "text1.tokens\n",
        "[word for word in text1 if len(word) >= 10] # 10자 이상의 단어가 list 형태로 출력됨"
      ],
      "metadata": {
        "id": "l6lhfct0KBwH"
      },
      "execution_count": null,
      "outputs": []
    },
    {
      "cell_type": "code",
      "source": [
        "# text4에서 'gnt'를 포함하는 단어 반환\n",
        "\n",
        "text4.tokens\n",
        "\n",
        "sorted(set([word for word in text4 if 'gnt' in word])) \n",
        "# ['Sovereignty', 'sovereignties', 'sovereignty']\n",
        "# Sovereignty, sovereignty 중복\n",
        "\n",
        "# option 1. 중복 제거하고 뽑기\n",
        "[word.lower() for word in set(text4) if 'gnt' in word] \n",
        "# ['sovereignties', 'sovereignty', 'sovereignty']\n",
        "# 중복 제거하고 소문자로 바꿔서 중복(대->소, 소->소) 있음\n",
        "\n",
        "# option 2. 뽑고 중복 제거하기 \n",
        "set([word.lower() for word in text4 if 'gnt' in word])\n",
        "# {'sovereignties', 'sovereignty'}\n",
        "# 뽑고 소문자로 바꾸고 중복 제거 "
      ],
      "metadata": {
        "id": "7CekE_c0MuT9"
      },
      "execution_count": null,
      "outputs": []
    },
    {
      "cell_type": "markdown",
      "source": [
        "## 조건을 위한 함수: uncased / cased\n",
        "\n",
        "- 'the' != 'The'\n",
        "- `upper()`, `lower()`, `title()`\n",
        "  - `title()`: 문자열의 모든 **단어**의 첫글자만 대문자로\n",
        "- `capitalize()`, `swapcase()`\n",
        "  - `capitalize()`: **문자열**의 첫글자는 대문자로, 나머지는 소문자로\n",
        "- `isupper()`, `islower()`, `istitle()`\n",
        "- `endswith()`, `startswith()`, `isalpha()`"
      ],
      "metadata": {
        "id": "xjL3D7g9ZqJW"
      }
    },
    {
      "cell_type": "code",
      "source": [
        "text_3 # In heaven, all they talk about is the ocean.\n",
        "\n",
        "text_3.upper() # 'IN HEAVEN, ALL THEY TALK ABOUT IS THE OCEAN.'\n",
        "text_3.lower() # 'in heaven, all they talk about is the ocean.'\n",
        "text_3.title() # 'In Heaven, All They Talk About Is The Ocean.'\n",
        "text_3.capitalize() # 'In heaven, all they talk about is the ocean.'\n",
        "text_3.swapcase() # 'iN HEAVEN, ALL THEY TALK ABOUT IS THE OCEAN.'\n",
        "text_3.startswith('I') # True\n",
        "text_3.startswith('i') # False\n",
        "text_3.endswith('.') # True"
      ],
      "metadata": {
        "id": "ZqIf3BtNNY_F"
      },
      "execution_count": null,
      "outputs": []
    },
    {
      "cell_type": "code",
      "source": [
        "','.isalpha() # False\n",
        "'ocean'.isalpha() # True\n",
        "'ocean.'.isalpha() # False - alphabet이 아닌 것이 들어간 경우\n",
        "'OCEAN'.isupper() # True\n",
        "'Ocean'.isupper() # False\n",
        "'ocean'.islower() # True\n",
        "'Ocean'.istitle() # True"
      ],
      "metadata": {
        "id": "Zgk0SF3fbTuk"
      },
      "execution_count": null,
      "outputs": []
    },
    {
      "cell_type": "code",
      "source": [
        "# text1에서 'ableness'로 끝나는 단어 반환\n",
        "\n",
        "[word for word in text1 if word.endswith('ableness')]\n",
        "# 'ableness'로 끝나는 단어 리스트"
      ],
      "metadata": {
        "colab": {
          "base_uri": "https://localhost:8080/"
        },
        "id": "4ZDfdyl1a5Kn",
        "outputId": "77090899-594f-408f-87ac-1ad70bc01e19"
      },
      "execution_count": 123,
      "outputs": [
        {
          "output_type": "execute_result",
          "data": {
            "text/plain": [
              "['uncomfortableness',\n",
              " 'comfortableness',\n",
              " 'intolerableness',\n",
              " 'immutableness',\n",
              " 'indomitableness',\n",
              " 'reasonableness',\n",
              " 'indispensableness',\n",
              " 'indomitableness',\n",
              " 'honourableness',\n",
              " 'palpableness']"
            ]
          },
          "metadata": {},
          "execution_count": 123
        }
      ]
    },
    {
      "cell_type": "code",
      "source": [
        "# text3에서 대문자로 시작하는 단어들 중에 길이가 3이상인 단어\n",
        "# 중복 없이 뽑고, 대문자로 반환\n",
        "\n",
        "[word.upper() for word in set(text3) if word.istitle() and len(word) >= 3]\n",
        "# 거르고(god, God) 결과 계산(GOD, GOD)\n",
        "set([word.upper() for word in text3 if word.istitle() and len(word) >= 3])\n",
        "# 계산하고(GOD, GOD) 거름(GOD)\n",
        "\n",
        "[word.upper() for word in set(text3) if word.istitle() and len(word) >= 3][:10]"
      ],
      "metadata": {
        "colab": {
          "base_uri": "https://localhost:8080/"
        },
        "id": "4fZzR7hXd6r-",
        "outputId": "068e24f8-6ab7-456e-82e9-04b4d3987e63"
      },
      "execution_count": 127,
      "outputs": [
        {
          "output_type": "execute_result",
          "data": {
            "text/plain": [
              "['FORASMUCH',\n",
              " 'SHILOH',\n",
              " 'SELL',\n",
              " 'PISON',\n",
              " 'MAM',\n",
              " 'SHILLEM',\n",
              " 'OUR',\n",
              " 'ABIDE',\n",
              " 'UZAL',\n",
              " 'HAST']"
            ]
          },
          "metadata": {},
          "execution_count": 127
        }
      ]
    },
    {
      "cell_type": "code",
      "source": [
        "fdist4 = FreqDist(text4)"
      ],
      "metadata": {
        "id": "8L3wawL2evoa"
      },
      "execution_count": 128,
      "outputs": []
    },
    {
      "cell_type": "code",
      "source": [
        "# 4자 이상, 5번 이상 나오는 단어의 길이 출력\n",
        "[len(word) for (word, count) in fdist4.items() \n",
        "if (len(word) >= 4) and (count >= 5)]"
      ],
      "metadata": {
        "id": "C-enWHSGj68_"
      },
      "execution_count": null,
      "outputs": []
    },
    {
      "cell_type": "markdown",
      "source": [
        "## list, string\n",
        "\n",
        "- `split()`\n",
        "- `join()`"
      ],
      "metadata": {
        "id": "7hhuL_0qmARQ"
      }
    },
    {
      "cell_type": "markdown",
      "source": [
        "## `split()`"
      ],
      "metadata": {
        "id": "FgFE6zp2ocED"
      }
    },
    {
      "cell_type": "code",
      "source": [
        "sent = '  In heaven, all they talk about is the ocean  '\n",
        "sent.split(' ') # ['In', 'heaven,', 'all', 'they', 'talk', 'about', 'is', 'the', 'ocean']\n",
        "sent.split()    # ['In', 'heaven,', 'all', 'they', 'talk', 'about', 'is', 'the', 'ocean']\n",
        "# split() default는 공백"
      ],
      "metadata": {
        "colab": {
          "base_uri": "https://localhost:8080/"
        },
        "id": "y6ZEZBgDl87c",
        "outputId": "65858fdc-4c69-448b-c327-77f76f3fe31b"
      },
      "execution_count": 145,
      "outputs": [
        {
          "output_type": "execute_result",
          "data": {
            "text/plain": [
              "['In', 'heaven,', 'all', 'they', 'talk', 'about', 'is', 'the', 'ocean']"
            ]
          },
          "metadata": {},
          "execution_count": 145
        }
      ]
    },
    {
      "cell_type": "code",
      "source": [
        "sent.strip() # 'In heaven, all they talk about is the ocean'\n",
        "sent.strip().split() # ['In', 'heaven,', 'all', 'they', 'talk', 'about', 'is', 'the', 'ocean']\n",
        "# 한 줄에 여러 개 사용 가능"
      ],
      "metadata": {
        "colab": {
          "base_uri": "https://localhost:8080/"
        },
        "id": "8f0ViyrzmUVx",
        "outputId": "a1a684fb-b3f1-401d-846f-007ec66625b4"
      },
      "execution_count": 152,
      "outputs": [
        {
          "output_type": "execute_result",
          "data": {
            "text/plain": [
              "['In', 'heaven,', 'all', 'they', 'talk', 'about', 'is', 'the', 'ocean']"
            ]
          },
          "metadata": {},
          "execution_count": 152
        }
      ]
    },
    {
      "cell_type": "code",
      "source": [
        "sent1 = 'In, heaven, all, they, talk, about, is, the, ocean'\n",
        "\n",
        "# ',' 삭제 + list comprehension을 사용하여 불필요한 공백 없애기\n",
        "\n",
        "sent1.split(',') \n",
        "# ['In', ' heaven', ' all', ' they', ' talk', ' about', ' is', ' the', ' ocean']\n",
        "# 공백이 남아있다\n",
        "\n",
        "[word.lstrip() for word in sent1.split(',')]\n",
        "# ['In', 'heaven', 'all', 'they', 'talk', 'about', 'is', 'the', 'ocean']\n",
        "# 공백 삭제"
      ],
      "metadata": {
        "colab": {
          "base_uri": "https://localhost:8080/"
        },
        "id": "0aBbJrUxmvGL",
        "outputId": "81054495-5372-43b0-b7b6-624cddbfe298"
      },
      "execution_count": 159,
      "outputs": [
        {
          "output_type": "execute_result",
          "data": {
            "text/plain": [
              "['In', 'heaven', 'all', 'they', 'talk', 'about', 'is', 'the', 'ocean']"
            ]
          },
          "metadata": {},
          "execution_count": 159
        }
      ]
    },
    {
      "cell_type": "markdown",
      "source": [
        "## `join()`"
      ],
      "metadata": {
        "id": "VOMiEBaZofdD"
      }
    },
    {
      "cell_type": "code",
      "source": [
        "tokens_1 = [word.lstrip() for word in sent1.split(',')]\n",
        "# ['In', 'heaven', 'all', 'they', 'talk', 'about', 'is', 'the', 'ocean']\n",
        "\n",
        "'-'.join(tokens_1) # 'In-heaven-all-they-talk-about-is-the-ocean'"
      ],
      "metadata": {
        "colab": {
          "base_uri": "https://localhost:8080/",
          "height": 35
        },
        "id": "3EWUJQ9Znmkf",
        "outputId": "a0623db3-5c57-4372-a75e-b74307340dd9"
      },
      "execution_count": 163,
      "outputs": [
        {
          "output_type": "execute_result",
          "data": {
            "text/plain": [
              "'In-heaven-all-they-talk-about-is-the-ocean'"
            ],
            "application/vnd.google.colaboratory.intrinsic+json": {
              "type": "string"
            }
          },
          "metadata": {},
          "execution_count": 163
        }
      ]
    },
    {
      "cell_type": "markdown",
      "source": [
        "\n",
        "\n",
        "---\n",
        "\n",
        "\n",
        "\n",
        "---\n",
        "\n"
      ],
      "metadata": {
        "id": "SuSf2vkxpJtL"
      }
    },
    {
      "cell_type": "markdown",
      "source": [
        "# 반복문\n",
        "\n",
        "- `[word for word in text1]` 中 for부터가 반복문에 해당\n",
        "- 자료구조를 순환할 때 사용\n",
        "- 정해진 동작을 반복적으로 수행할 때 내리는 명령어\n",
        "- 시작 조건, 종료 조건, 수행 명령으로 구성\n",
        "- for 요소 in 반복 범위: 수행 명령\n",
        "- `for`, `while`\n",
        "- 코드 블럭의 명확한 구분을 위해 들여쓰기(indentation)에 주의\n",
        "- 무한루프가 되지 않도록 주의"
      ],
      "metadata": {
        "id": "uiJENnEapLWm"
      }
    },
    {
      "cell_type": "code",
      "source": [
        "# [word for word in text1]\n",
        "\n",
        "for word in text1[:10]:\n",
        "  print(word)\n",
        "\n",
        "# [\n",
        "# Moby\n",
        "# Dick\n",
        "# by\n",
        "# Herman\n",
        "# Melville\n",
        "# 1851\n",
        "# ]\n",
        "# ETYMOLOGY\n",
        "# .\n",
        "\n",
        "[word for word in text1[:10]] # 동일한 결과"
      ],
      "metadata": {
        "id": "kKlqvmmJo2kz"
      },
      "execution_count": null,
      "outputs": []
    },
    {
      "cell_type": "code",
      "source": [
        "alphabet = ['a', 'b', 'c']\n",
        "for w in alphabet:\n",
        "  print(w)\n",
        "# a\n",
        "# b\n",
        "# c"
      ],
      "metadata": {
        "colab": {
          "base_uri": "https://localhost:8080/"
        },
        "id": "t763CDRlrVc7",
        "outputId": "912a2117-01a4-4470-c42f-38274d4e6f69"
      },
      "execution_count": 170,
      "outputs": [
        {
          "output_type": "stream",
          "name": "stdout",
          "text": [
            "a\n",
            "b\n",
            "c\n"
          ]
        }
      ]
    },
    {
      "cell_type": "code",
      "source": [
        "# 숫자 반복: range(start, end, step)\n",
        "for i in range(1, 10, 2):\n",
        "  print(i)\n",
        "\n",
        "# 1\n",
        "# 3\n",
        "# 5\n",
        "# 7\n",
        "# 9"
      ],
      "metadata": {
        "colab": {
          "base_uri": "https://localhost:8080/"
        },
        "id": "M8cRXPEI6S-P",
        "outputId": "320a9b22-149b-4bc1-a0a9-a3635a8b530b"
      },
      "execution_count": 172,
      "outputs": [
        {
          "output_type": "stream",
          "name": "stdout",
          "text": [
            "1\n",
            "3\n",
            "5\n",
            "7\n",
            "9\n"
          ]
        }
      ]
    },
    {
      "cell_type": "code",
      "source": [
        "# text 1~9 각 텍스트의 단어 수를 반환\n",
        "\n",
        "texts = [text1, text2, text3, text4, text5, text6, text7, text8, text9]\n",
        "\n",
        "for i in texts:\n",
        "  print(len(i)) # 260819, 141576, 44764, 152901, 45010, 16967, 100676, 4867, 69213"
      ],
      "metadata": {
        "colab": {
          "base_uri": "https://localhost:8080/"
        },
        "id": "SxkVVdk56rjo",
        "outputId": "1fa5ed7e-b32b-4307-f66e-2da34bed3922"
      },
      "execution_count": 185,
      "outputs": [
        {
          "output_type": "stream",
          "name": "stdout",
          "text": [
            "260819\n",
            "141576\n",
            "44764\n",
            "152901\n",
            "45010\n",
            "16967\n",
            "100676\n",
            "4867\n",
            "69213\n"
          ]
        }
      ]
    },
    {
      "cell_type": "markdown",
      "source": [
        "## 출력 formatting\n",
        "\n",
        "1. `f'str...{var}'` or `F'str...{var}'`\n",
        "2. `%` (옛날 방식)\n",
        "  -  `'... %s' % var`\n",
        "3. `'...{}'.format(var)`\n",
        "\n"
      ],
      "metadata": {
        "id": "Hch2Jt9n9yh6"
      }
    },
    {
      "cell_type": "code",
      "source": [
        "name = 'hyunji'\n",
        "\n",
        "print('My name is', name)     # My name is hyunji\n",
        "print(f'My name is {name}')   # My name is hyunji 가독성이 좋다\n",
        "print('My name is %s' % name) # My name is hyunji \n",
        "\n",
        "age = 21\n",
        "print(\"My name is {} and I'm {}\".format(name, age))    # My name is hyunji and I'm 21\n",
        "print(\"My name is {:.4} and I'm {}\".format(name, age)) # My name is hyun and I'm 21 - 잘린다\n",
        "\n",
        "height = 165.55555\n",
        "print('I am %.1fcm tall.' % height) # I am 165.6cm tall. - 소수점 첫 번째 자리까지"
      ],
      "metadata": {
        "colab": {
          "base_uri": "https://localhost:8080/"
        },
        "id": "PQhO7OfY8lHJ",
        "outputId": "37ce1cd5-eea7-40cb-9c63-2fcdbcbe29d3"
      },
      "execution_count": 202,
      "outputs": [
        {
          "output_type": "stream",
          "name": "stdout",
          "text": [
            "My name is hyunji\n",
            "My name is hyunji\n",
            "My name is hyunji\n",
            "My name is hyunji and I'm 21\n",
            "My name is hyun and I'm 21\n",
            "I am 165.6cm tall.\n"
          ]
        }
      ]
    },
    {
      "cell_type": "code",
      "source": [
        ""
      ],
      "metadata": {
        "id": "uZH5LDY0HXKU"
      },
      "execution_count": null,
      "outputs": []
    }
  ]
}