{
  "nbformat": 4,
  "nbformat_minor": 0,
  "metadata": {
    "colab": {
      "name": "Untitled0.ipynb",
      "provenance": [],
      "collapsed_sections": [],
      "authorship_tag": "ABX9TyNv22U7XDzfJjNPKHyhMlbX",
      "include_colab_link": true
    },
    "kernelspec": {
      "name": "python3",
      "display_name": "Python 3"
    },
    "language_info": {
      "name": "python"
    }
  },
  "cells": [
    {
      "cell_type": "markdown",
      "metadata": {
        "id": "view-in-github",
        "colab_type": "text"
      },
      "source": [
        "<a href=\"https://colab.research.google.com/github/kimhyunji202101165/hyunji_202101165/blob/main/quiz1.ipynb\" target=\"_parent\"><img src=\"https://colab.research.google.com/assets/colab-badge.svg\" alt=\"Open In Colab\"/></a>"
      ]
    },
    {
      "cell_type": "code",
      "source": [
        "from random import *\n",
        "\n",
        "n = randint(1, 100)\n",
        "print(n)\n",
        "\n",
        "n = 19\n",
        "\n",
        "a = 0 # 5kg 나르는 횟수\n",
        "b = 0 # 3kg 나르는 횟수\n",
        "\n",
        "# 5a + 3b =< n < 5(a+1) + 3b\n",
        "\n",
        "a = n // 5\n",
        "\n",
        "if (n % 5) == 3 or (n % 5) % 3 < 0:\n",
        "  b = 1\n",
        "elif (n % 5) > 3:\n",
        "  b = (n % 5) // 3 + 1\n",
        "\n",
        "print(a, b)\n",
        "\n"
      ],
      "metadata": {
        "id": "lNwRgf1Otf3j",
        "colab": {
          "base_uri": "https://localhost:8080/"
        },
        "outputId": "1dc72434-18a1-4b62-8f71-f284cedb0db4"
      },
      "execution_count": 8,
      "outputs": [
        {
          "output_type": "stream",
          "name": "stdout",
          "text": [
            "6\n",
            "3 2\n"
          ]
        }
      ]
    },
    {
      "cell_type": "markdown",
      "source": [
        "마이클이 흙을 나른다고 가정하자. \n",
        "옮겨야 할 흙은 총 n킬로그램이고, 마이클은 3kg씩 혹은 5kg씩 나를 수 있다.\n",
        "최대한 적은 노력으로 모든 흙을 나를 수 있는 코드를 작성하라.\n",
        "(단, 나르는 흙의 양이 총량과 정확하게 떨어지지 않으면 총량을 살짝 넘긴다.)\n",
        "\n",
        "예: n = 18일 때, 3kg 6번보다 5kg 3번 + 3kg 1번이 (= 4번) 더 나은 방법이다.\n",
        "\n",
        "예: n = 19일 때, 3kg을 1번 더 옮겨야 함.\n",
        "\n",
        "n은 랜덤으로 주어진다.\n",
        "출력값 = (3kg 나르는 횟수, 5kg 나르는 횟수)"
      ],
      "metadata": {
        "id": "oA_U1ZFp6NYO"
      }
    }
  ]
}