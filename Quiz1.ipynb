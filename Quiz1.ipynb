{
  "nbformat": 4,
  "nbformat_minor": 0,
  "metadata": {
    "colab": {
      "name": "Untitled0.ipynb",
      "provenance": [],
      "collapsed_sections": [],
      "authorship_tag": "ABX9TyPRLwUzBA8KE6P3Ne37KGw/",
      "include_colab_link": true
    },
    "kernelspec": {
      "name": "python3",
      "display_name": "Python 3"
    },
    "language_info": {
      "name": "python"
    }
  },
  "cells": [
    {
      "cell_type": "markdown",
      "metadata": {
        "id": "view-in-github",
        "colab_type": "text"
      },
      "source": [
        "<a href=\"https://colab.research.google.com/github/kimhyunji202101165/hyunji_202101165/blob/main/Quiz1.ipynb\" target=\"_parent\"><img src=\"https://colab.research.google.com/assets/colab-badge.svg\" alt=\"Open In Colab\"/></a>"
      ]
    },
    {
      "cell_type": "markdown",
      "source": [
        "마이클이 흙을 나른다고 가정하자. \n",
        "옮겨야 할 흙은 총 n킬로그램이고, 마이클은 3kg씩 혹은 5kg씩 나를 수 있다.\n",
        "최대한 적은 노력으로 모든 흙을 나를 수 있는 코드를 작성하라.\n",
        "(단, 나르는 흙의 양이 총량과 정확하게 떨어지지 않으면 총량을 살짝 넘긴다.)\n",
        "\n",
        "예: n = 18일 때, 3kg 6번보다 5kg 3번 + 3kg 1번이 (= 4번) 더 나은 방법이다.\n",
        "\n",
        "예: n = 19일 때, 3kg을 1번 더 옮겨야 함.\n",
        "\n",
        "n은 랜덤으로 주어진다.\n",
        "출력값 = (3kg 나르는 횟수, 5kg 나르는 횟수)"
      ],
      "metadata": {
        "id": "oA_U1ZFp6NYO"
      }
    },
    {
      "cell_type": "code",
      "source": [
        "from random import *\n",
        "\n",
        "n = randint(1, 100)\n",
        "print(f'나를 흙의 무게: {n}(kg)')\n",
        "\n",
        "a = 0 # 5kg 나르는 횟수\n",
        "b = 0 # 3kg 나르는 횟수\n",
        "\n",
        "a = n // 5\n",
        "\n",
        "if (n % 5) == 3 or (n % 5) % 3 < 0:\n",
        "  b = 1\n",
        "elif (n % 5) > 3:\n",
        "  b = (n % 5) // 3 + 1\n",
        "\n",
        "print(a, b)\n",
        "\n"
      ],
      "metadata": {
        "id": "lNwRgf1Otf3j",
        "colab": {
          "base_uri": "https://localhost:8080/"
        },
        "outputId": "1b225c57-022f-497c-de54-ef808e772daa"
      },
      "execution_count": 13,
      "outputs": [
        {
          "output_type": "stream",
          "name": "stdout",
          "text": [
            "나를 흙의 무게: 80(kg)\n",
            "16 0\n"
          ]
        }
      ]
    },
    {
      "cell_type": "markdown",
      "source": [
        "세 수를 입력받고 가장 큰 수를 찾는 코드를 작성하세요.\n",
        "\n",
        "예: 12, 14, 15 입력 받았다면 15"
      ],
      "metadata": {
        "id": "GKCfT3FvfwdT"
      }
    },
    {
      "cell_type": "code",
      "source": [
        "num1 = input('첫 번째 수를 입력하세요: ')\n",
        "num2 = input('두 번째 수를 입력하세요: ')\n",
        "num3 = input('세 번째 수를 입력하세요: ')\n",
        "\n",
        "biggest = 0 # 가장 큰 수\n",
        "\n",
        "if num1 > num2 and num1 > num3:\n",
        "  biggest = num1\n",
        "\n",
        "elif num2 > num1 and num2 > num3:\n",
        "  biggest = num2\n",
        "\n",
        "elif num3 > num1 and num3 > num2:\n",
        "  biggest = num3\n",
        "\n",
        "print(f'가장 큰 수는 {biggest}')"
      ],
      "metadata": {
        "colab": {
          "base_uri": "https://localhost:8080/"
        },
        "id": "xRkNwG1OeouT",
        "outputId": "4fb3db3b-e03d-43e1-96e4-daf0dcc1b46b"
      },
      "execution_count": 14,
      "outputs": [
        {
          "output_type": "stream",
          "name": "stdout",
          "text": [
            "첫 번째 수를 입력하세요: 12\n",
            "두 번째 수를 입력하세요: 14\n",
            "세 번째 수를 입력하세요: 15\n",
            "가장 큰 수는 15\n"
          ]
        }
      ]
    },
    {
      "cell_type": "markdown",
      "source": [
        "# 편의점 매출 계산하기\n",
        "\n",
        "  - 총 매출 = (소비자 가격 - 원가) * 개수\n",
        "  - 조건: 5개 이상 구매 시 전체 물품의 15% 할인\n",
        "\n",
        "한 고객이 다음과 같이 물건을 구입했다고 할 때, 편의점의 매출을 계산하시오.\n",
        "\n",
        "  - 최대한 모든 리터럴을 변수에 담을 것.\n",
        "  - 출력값은 총 매출액 (정수)\n",
        "\n",
        "---\n",
        "\n",
        "영수증\n",
        "\n",
        "(품목, 원가, 소비자가, 개수)\n",
        "\n",
        "- 비요뜨, 480, 1300, 3\n",
        "- 삼각김밥, 900, 2500, 5\n",
        "- 콜라, 380, 800, 6\n",
        "- 바나나, 1050, 3200, 2\n",
        "- 홈런볼, 770, 1500, 4"
      ],
      "metadata": {
        "id": "qufQ0kOkgSl7"
      }
    },
    {
      "cell_type": "code",
      "source": [
        "# 원가\n",
        "viyott_cost = 480\n",
        "tri_cost = 900\n",
        "cola_cost = 380\n",
        "banana_cost = 1050\n",
        "homerun_cost = 770\n",
        "\n",
        "# 소비자가\n",
        "viyott_ret = 1300\n",
        "tri_ret = 2500\n",
        "cola_ret = 800\n",
        "banana_ret = 3200\n",
        "homerun_ret = 1500\n",
        "\n",
        "# 개수\n",
        "viyott_count = 3\n",
        "tri_count = 5\n",
        "cola_count = 6\n",
        "banana_count = 2\n",
        "homerun_count = 4\n",
        "\n",
        "# 매출액\n",
        "viyott_sales = 0\n",
        "tri_sales = 0\n",
        "cola_sales = 0\n",
        "banana_sales = 0\n",
        "homerun_sales = 0\n",
        "\n",
        "if viyott_count >= 5:\n",
        "  viyott_sales = 0.85 * ((viyott_ret - viyott_cost) * viyott_ret)\n",
        "else: \n",
        "  viyott_sales = (viyott_ret - viyott_cost) * viyott_count\n",
        "\n",
        "if tri_count >= 5:\n",
        "  tri_sales = 0.85 * ((tri_ret - tri_cost) * tri_count)\n",
        "else: \n",
        "  tri_sales = (tri_ret - tri_cost) * tri_count\n",
        "\n",
        "if cola_count >= 5:\n",
        "  cola_sales = 0.85 * ((cola_ret - cola_cost) * cola_count)\n",
        "else:\n",
        "  cola_sales = (cola_ret - cola_cost) * cola_count\n",
        "\n",
        "if banana_count >= 5:\n",
        "  banana_sales = 0.85 * ((banana_ret - banana_cost) * banana_count)\n",
        "else:\n",
        "  banana_sales = (banana_ret - banana_cost) * banana_count\n",
        "\n",
        "if homerun_count >= 5:\n",
        "  homerun_sales = 0.85 * ((homerun_ret - homerun_cost) * homerun_count)\n",
        "else:\n",
        "  homerun_sales = (homerun_ret - homerun_cost) * homerun_count\n",
        "\n",
        "# 총매출액\n",
        "total = viyott_sales + tri_sales + cola_sales + banana_sales + homerun_sales\n",
        "\n",
        "print(total)"
      ],
      "metadata": {
        "colab": {
          "base_uri": "https://localhost:8080/"
        },
        "id": "TwBFRIS4gPAz",
        "outputId": "44bde68c-5371-4840-a818-7408dfd4201a"
      },
      "execution_count": 23,
      "outputs": [
        {
          "output_type": "stream",
          "name": "stdout",
          "text": [
            "18622.0\n"
          ]
        }
      ]
    },
    {
      "cell_type": "markdown",
      "source": [
        "달팽이가 높이 350미터인 나무 막대를 올라간다.\n",
        "\n",
        "- 달팽이는 낮에 5미터 올라간다.\n",
        "- 밤에는 2미터 미끄러진다.\n",
        "- 정사에 올라간 후에는 미끄러지지 않는다.\n",
        "\n",
        "달팽이가 막대기 정상에 올라가려면 며칠이 걸리는지 코드를 짜서 프린트하시오."
      ],
      "metadata": {
        "id": "1dYzW5RqluRg"
      }
    },
    {
      "cell_type": "code",
      "source": [
        "height = 350\n",
        "\n",
        "day = 5\n",
        "night = -2\n",
        "\n",
        "one_day = day + night\n",
        "\n",
        "how_long = height // one_day\n",
        "\n",
        "print(f'달팽이가 정상에 올라가는 데에 {how_long}일이 걸린다')\n"
      ],
      "metadata": {
        "colab": {
          "base_uri": "https://localhost:8080/"
        },
        "id": "aaUcJoptkT-x",
        "outputId": "65ebf28e-7494-4a89-f197-a2dcbcc9c4b4"
      },
      "execution_count": 26,
      "outputs": [
        {
          "output_type": "stream",
          "name": "stdout",
          "text": [
            "달팽이가 정상에 올라가는 데에 116일이 걸린다\n"
          ]
        }
      ]
    }
  ]
}