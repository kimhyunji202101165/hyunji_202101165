{
 "cells": [
  {
   "cell_type": "markdown",
   "id": "396d8e63-e3d5-4a4b-a548-5919e19ad2af",
   "metadata": {
    "tags": []
   },
   "source": [
    "# Ch02 Variable\n",
    "- string\n",
    "- float\n",
    "- integer\n",
    "- boolean"
   ]
  },
  {
   "cell_type": "code",
   "execution_count": 1,
   "id": "c0d64e16-7b47-41cc-928a-55ce517ee590",
   "metadata": {},
   "outputs": [
    {
     "data": {
      "text/plain": [
       "2"
      ]
     },
     "execution_count": 1,
     "metadata": {},
     "output_type": "execute_result"
    }
   ],
   "source": [
    "# 여러 변수명에 동일한 값을 동시에 할당할 수 있다\n",
    "two = deux = dos = 2 #dos -> deux -> two 역순으로 값이 할당된다\n",
    "two"
   ]
  },
  {
   "cell_type": "code",
   "execution_count": 3,
   "id": "d3d561be-3f57-4e63-938f-a98a87058fcb",
   "metadata": {
    "tags": []
   },
   "outputs": [
    {
     "name": "stdout",
     "output_type": "stream",
     "text": [
      "2 2 2\n"
     ]
    }
   ],
   "source": [
    "# 여러 변수명 동시에 할당 가능\n",
    "two = deux = das = 2 # das -> deux -> two\n",
    "print(two, deux, das)"
   ]
  },
  {
   "cell_type": "markdown",
   "id": "d5ba3c8b-f168-465d-98ab-12ccdbd37d81",
   "metadata": {
    "tags": []
   },
   "source": [
    "### 객체\n",
    "파이썬의 모든 데이터 타입들은 객쳬(object)이다\n",
    "객체 단위로 메모리 상에서 정보를 관리한다\n",
    "객체의 3가지 특성 - 값(value), 유형(type), 정체성(id)\n",
    "\n",
    "- 값(value) : 메모리에 기록된 내용. 가변 객체는 값이 변할 수 있지만 불변 객체는 변하지 않는다.\n",
    "- 유형(type) : type() 함수를 통해 객체의 유형을 알 수 있으며 데이터의 종류를 보여준다.\n",
    "- 정체성(identity) : id()함수를 통해 알 수 있다. 각각의 객체를 식별하기 위한 고유번호(메모리 상에 위치한 주소 값)"
   ]
  },
  {
   "cell_type": "markdown",
   "id": "446181fc-3f00-4455-a567-abe45d965d19",
   "metadata": {},
   "source": [
    "- 가변 객체(mutable) : 객체에 할당된 값을 수정할 수 있다\n",
    "    - list, set, dict\n",
    "- 불변 객체(immutable) : 객체에 할당된 값을 수정할 수 없다\n",
    "    - int, float, bool, tuple, string, unicode, ..."
   ]
  },
  {
   "cell_type": "markdown",
   "id": "7ef0fca3-a524-4f31-8445-70a9f0c08d61",
   "metadata": {},
   "source": [
    "불변 객체의 경우 변수에 새로운 값을 부여했을 때 메모리 위치가 바뀐다 \n",
    "-> 기존의 값이 변경된 것이 아니라 새로운 object를 생성한 것이다 \n",
    "(기존에 존재했던 value '2'는 메모리에서 제거됨"
   ]
  },
  {
   "cell_type": "code",
   "execution_count": 4,
   "id": "520367a5-00d1-42c6-9f83-903f77e55177",
   "metadata": {},
   "outputs": [
    {
     "name": "stdout",
     "output_type": "stream",
     "text": [
      "4 2\n"
     ]
    },
    {
     "data": {
      "text/plain": [
       "(1738807536016, 1738807535952)"
      ]
     },
     "execution_count": 4,
     "metadata": {},
     "output_type": "execute_result"
    }
   ],
   "source": [
    "# 불변객체\n",
    "two = deux = 2\n",
    "two = 4 # 기존의 값 '2'가 변경된 것이 아니라 새로운 object를 생성한 것, 나머지 변수의 값은 바뀌지 않음\n",
    "\n",
    "print(two, deux)\n",
    "\n",
    "id(two), id(deux) # 변수에 새로운 값을 부여했을 때 메모리 위치가 바뀌고, 기존 값은 메모리에서 제거됨"
   ]
  },
  {
   "cell_type": "code",
   "execution_count": 5,
   "id": "68c08a4e-a04f-43cd-80b7-6b94d6e09181",
   "metadata": {},
   "outputs": [
    {
     "data": {
      "text/plain": [
       "([1, 2, 3], [1, 2, 3])"
      ]
     },
     "execution_count": 5,
     "metadata": {},
     "output_type": "execute_result"
    }
   ],
   "source": [
    "# 변수에는 값뿐만 아니라 또 다른 변수도 할당할 수 있다\n",
    "p = [1, 2, 3]\n",
    "q = p\n",
    "p, q"
   ]
  },
  {
   "cell_type": "code",
   "execution_count": 26,
   "id": "5bd22ad9-ed21-4c16-a786-253035c648a7",
   "metadata": {},
   "outputs": [
    {
     "data": {
      "text/plain": [
       "(3092733245120, 3092733245120)"
      ]
     },
     "execution_count": 26,
     "metadata": {},
     "output_type": "execute_result"
    }
   ],
   "source": [
    "p[0] = 9\n",
    "p, q # q에 p를 할당했으므로 값이 함께 바뀐다\n",
    "\n",
    "id(p), id(q) # 동일한 id"
   ]
  },
  {
   "cell_type": "markdown",
   "id": "17c85d5c-5b79-45d6-8a7f-7800ed723b0d",
   "metadata": {
    "tags": []
   },
   "source": [
    "#### 좋은 변수명\n",
    "- 간결, 명확, 담고자 하는 데이터를 유추할 수 있어야\n",
    "- 수긍하기 쉽고, 기억하기 쉽고, 입력하기 쉽게 짓기\n",
    "- 의미 없는 변수 피하기 (a, b, c, ...)\n",
    "- 코드에는 의미가 담기고 주석에는 의도가 담긴다.\n",
    "    - 예: the number of students\n",
    "    - (안 좋은 순으로) n < the_number_of_students < num_students\n",
    "    - 카멜표기법: numStudents"
   ]
  },
  {
   "cell_type": "markdown",
   "id": "64115513-27ef-4e5b-8eab-723d16c7d3d6",
   "metadata": {},
   "source": [
    "### 자료형 변환, 형 변환\n",
    "- str(<변환할 값>), int(), float(), bool() "
   ]
  },
  {
   "cell_type": "code",
   "execution_count": 11,
   "id": "1ad7e596-30d8-4a9d-8568-e94cb3609fdc",
   "metadata": {},
   "outputs": [
    {
     "data": {
      "text/plain": [
       "True"
      ]
     },
     "execution_count": 11,
     "metadata": {},
     "output_type": "execute_result"
    }
   ],
   "source": [
    "a = 10\n",
    "\n",
    "# str\n",
    "str(a)\n",
    "\n",
    "# float\n",
    "float(a)\n",
    "\n",
    "# bool\n",
    "bool(a) #어떤 값이 False로 변환이 되는지만 기억을 하라"
   ]
  },
  {
   "cell_type": "markdown",
   "id": "46d18800-deb1-4446-b083-db8d7443048f",
   "metadata": {},
   "source": [
    "#### 자료형의 참과 거짓\n",
    "- 빈 문자열, 리스트, 튜플, 딕셔너리는 False\n",
    "- 1 -> True \n",
    "- 0 -> False\n",
    "- 'None' -> False"
   ]
  },
  {
   "cell_type": "markdown",
   "id": "ad1688a2-078e-4ece-9f0e-3043842d0ece",
   "metadata": {},
   "source": [
    "float을 int로 바꿀 때"
   ]
  },
  {
   "cell_type": "code",
   "execution_count": 8,
   "id": "c49069c9-8cba-481b-91ee-2df2237c3f40",
   "metadata": {
    "tags": []
   },
   "outputs": [
    {
     "data": {
      "text/plain": [
       "19"
      ]
     },
     "execution_count": 8,
     "metadata": {},
     "output_type": "execute_result"
    }
   ],
   "source": [
    "x = 19.7\n",
    "int(x) # int()는 소수 부분 버리고 정수를 리턴"
   ]
  },
  {
   "cell_type": "code",
   "execution_count": 9,
   "id": "c80cd6d4-bb40-4c1d-8785-eacfd8c49371",
   "metadata": {},
   "outputs": [
    {
     "name": "stdout",
     "output_type": "stream",
     "text": [
      "21\n",
      "20\n"
     ]
    }
   ],
   "source": [
    "y = 1.8\n",
    "print(int(x + y)) # 값끼리 더한 후 소수 부분 버림\n",
    "print(int(x) + int(y)) # 각각 소수 부분 버린 후 더함\n",
    "\n",
    "# 값이 다름 주의"
   ]
  },
  {
   "cell_type": "code",
   "execution_count": 17,
   "id": "d6097472-cb1b-4449-98b5-1067d9f66426",
   "metadata": {},
   "outputs": [
    {
     "data": {
      "text/plain": [
       "(10, 10.0)"
      ]
     },
     "execution_count": 17,
     "metadata": {},
     "output_type": "execute_result"
    }
   ],
   "source": [
    "i = '10'\n",
    "int(i), float(i)"
   ]
  },
  {
   "cell_type": "code",
   "execution_count": 10,
   "id": "ddc126f9-5e82-4be7-a8dd-d53a019dcc3e",
   "metadata": {},
   "outputs": [
    {
     "ename": "ValueError",
     "evalue": "invalid literal for int() with base 10: '10.7'",
     "output_type": "error",
     "traceback": [
      "\u001b[1;31m---------------------------------------------------------------------------\u001b[0m",
      "\u001b[1;31mValueError\u001b[0m                                Traceback (most recent call last)",
      "\u001b[1;32m~\\AppData\\Local\\Temp/ipykernel_23136/3276066828.py\u001b[0m in \u001b[0;36m<module>\u001b[1;34m\u001b[0m\n\u001b[0;32m      1\u001b[0m \u001b[0mj\u001b[0m \u001b[1;33m=\u001b[0m \u001b[1;34m'10.7'\u001b[0m\u001b[1;33m\u001b[0m\u001b[1;33m\u001b[0m\u001b[0m\n\u001b[1;32m----> 2\u001b[1;33m \u001b[0mint\u001b[0m\u001b[1;33m(\u001b[0m\u001b[0mj\u001b[0m\u001b[1;33m)\u001b[0m\u001b[1;33m\u001b[0m\u001b[1;33m\u001b[0m\u001b[0m\n\u001b[0m\u001b[0;32m      3\u001b[0m \u001b[1;31m# str을 int로 바꾸려 하면 에러가 뜬다\u001b[0m\u001b[1;33m\u001b[0m\u001b[1;33m\u001b[0m\u001b[0m\n",
      "\u001b[1;31mValueError\u001b[0m: invalid literal for int() with base 10: '10.7'"
     ]
    }
   ],
   "source": [
    "j = '10.7'\n",
    "int(j)\n",
    "# str을 int로 바꾸려 하면 에러가 뜬다"
   ]
  },
  {
   "cell_type": "markdown",
   "id": "5b3dfb52-7c11-45e8-becf-bb317753b42a",
   "metadata": {
    "tags": []
   },
   "source": [
    "### `print` 꿀팁"
   ]
  },
  {
   "cell_type": "code",
   "execution_count": 12,
   "id": "a0062ac8-f8b4-425f-879e-384221899533",
   "metadata": {},
   "outputs": [
    {
     "name": "stdout",
     "output_type": "stream",
     "text": [
      "dogcatlion\n",
      "dog cat lion\n"
     ]
    }
   ],
   "source": [
    "dog = 'dog'\n",
    "cat = 'cat'\n",
    "lion = 'lion'\n",
    "\n",
    "print(dog + cat + lion) #공백 없이 바로 연결, \\n\n",
    "print(dog, cat, lion) # 공백 O, \\n"
   ]
  },
  {
   "cell_type": "code",
   "execution_count": 14,
   "id": "ff4a7101-8cf6-482c-9277-d98f84ec70a1",
   "metadata": {},
   "outputs": [
    {
     "name": "stdout",
     "output_type": "stream",
     "text": [
      "dogcatlion\n",
      "dog/cat/lion\n",
      "\n",
      "EOL\n"
     ]
    }
   ],
   "source": [
    "print(dog, cat, lion, sep='', end= '\\n') # argument 안에서 =을 붙여 쓰기도\n",
    "print(dog, cat, lion, sep='/', end='\\n\\n') # sep의 default: space, end의 default: newline \n",
    "print('EOL') # end of line"
   ]
  },
  {
   "cell_type": "code",
   "execution_count": 51,
   "id": "320ca8e0-45b0-46bc-8331-2f433ee0a4da",
   "metadata": {},
   "outputs": [
    {
     "name": "stdout",
     "output_type": "stream",
     "text": [
      "My favorite animal is dog\n",
      "My favorite animal is dog.\n"
     ]
    }
   ],
   "source": [
    "#1\n",
    "print('My favorite animal is', dog)\n",
    "\n",
    "#2\n",
    "print(f'My favorite animal is {dog}.') # 문자열 포매팅 방법 중 f-string"
   ]
  },
  {
   "cell_type": "code",
   "execution_count": 50,
   "id": "0bfd83d1-f528-4ec3-9ce4-60f1a63fec82",
   "metadata": {},
   "outputs": [
    {
     "name": "stdout",
     "output_type": "stream",
     "text": [
      "dog\n"
     ]
    }
   ],
   "source": [
    "# 코드 줄이 짧을 때 ;(semicolon)을 이용해 한 줄로 쓸 수 있다.\n",
    "# 한 줄에 여러 구문을 사용할 때 ;으로 구분\n",
    "\n",
    "dog = 'dog'; cat = 'cat'; lion = 'lion'\n",
    "print(dog)"
   ]
  },
  {
   "cell_type": "markdown",
   "id": "9f48bb23-bbf0-488d-825e-7dd62daaa4b7",
   "metadata": {},
   "source": [
    "---"
   ]
  },
  {
   "cell_type": "markdown",
   "id": "b54ceb95-3a69-4575-adcd-4cd8550aefb9",
   "metadata": {},
   "source": [
    "### `input()` 함수\n",
    "- console에서 사용자가 입력하는 값을 받을 수 있는 함수\n",
    "- 입력 받은 값을 변수에 담아서 사용한다. 그렇지 않으면 값은 사라진다.\n",
    "- 사용자가 입력한 값이 숫자라도 문자열로 취급한다 - 정수로 저장하고 싶다면 int(), 실수로 저장하고 싶다면 float() 함수 사용"
   ]
  },
  {
   "cell_type": "code",
   "execution_count": 2,
   "id": "afff2ce6-1082-4d93-a75d-da9bbd9302f8",
   "metadata": {},
   "outputs": [
    {
     "name": "stdin",
     "output_type": "stream",
     "text": [
      "Hello? Hi\n"
     ]
    },
    {
     "data": {
      "text/plain": [
       "'Hi'"
      ]
     },
     "execution_count": 2,
     "metadata": {},
     "output_type": "execute_result"
    }
   ],
   "source": [
    "input(\"Hello?\")"
   ]
  },
  {
   "cell_type": "code",
   "execution_count": 3,
   "id": "2c77abee-b01c-41f5-b058-0aa3b97262c6",
   "metadata": {},
   "outputs": [
    {
     "name": "stdin",
     "output_type": "stream",
     "text": [
      "나이가 어떻게 되나요? 55\n"
     ]
    },
    {
     "data": {
      "text/plain": [
       "55"
      ]
     },
     "execution_count": 3,
     "metadata": {},
     "output_type": "execute_result"
    }
   ],
   "source": [
    "int(input('나이가 어떻게 되나요?'))"
   ]
  },
  {
   "cell_type": "markdown",
   "id": "b2e13388-cb47-4870-bc57-17b57232b283",
   "metadata": {},
   "source": [
    "- 변수에 할당하는 방법"
   ]
  },
  {
   "cell_type": "code",
   "execution_count": 58,
   "id": "0abe6080-320d-442b-a8e1-7a350d519847",
   "metadata": {},
   "outputs": [
    {
     "name": "stdin",
     "output_type": "stream",
     "text": [
      "나이가 어떻게 되나요? 34\n"
     ]
    }
   ],
   "source": [
    "#1.\n",
    "age = input('나이가 어떻게 되나요?') \n",
    "# input 함수의 괄호에 안내 문구 문자열을 넣어 사용자에게 원하는 값을 입력하도록 요구할 수 있다"
   ]
  },
  {
   "cell_type": "code",
   "execution_count": 61,
   "id": "c34210ea-03d3-46e8-a706-9d3801d5fdc0",
   "metadata": {},
   "outputs": [
    {
     "name": "stdout",
     "output_type": "stream",
     "text": [
      "나이가 어떻게 되나요?\n"
     ]
    },
    {
     "name": "stdin",
     "output_type": "stream",
     "text": [
      " 34\n"
     ]
    }
   ],
   "source": [
    "#2\n",
    "print(\"나이가 어떻게 되나요?\")\n",
    "age = input()"
   ]
  },
  {
   "cell_type": "code",
   "execution_count": 6,
   "id": "4c233a4d-064b-465b-b2b3-3e45ca3892a1",
   "metadata": {},
   "outputs": [
    {
     "data": {
      "text/plain": [
       "'53'"
      ]
     },
     "execution_count": 6,
     "metadata": {},
     "output_type": "execute_result"
    }
   ],
   "source": [
    "age"
   ]
  },
  {
   "cell_type": "markdown",
   "id": "31db3416-f080-4d6d-bc59-4d752bffbdce",
   "metadata": {},
   "source": [
    "#### Quiz 1\n",
    "- 섭씨를 입력 받아서 화씨로 변환하기\n",
    "- \"섭씨 * 1.8 + 32 = 화씨\""
   ]
  },
  {
   "cell_type": "code",
   "execution_count": 57,
   "id": "d6a0fc68-64ee-4de9-ac8b-40adcf0c8d39",
   "metadata": {},
   "outputs": [
    {
     "name": "stdin",
     "output_type": "stream",
     "text": [
      "섭씨 몇 도입니까? 34\n"
     ]
    },
    {
     "name": "stdout",
     "output_type": "stream",
     "text": [
      "화씨 93.2도 입니다.\n"
     ]
    }
   ],
   "source": [
    "celsius = float(input('섭씨 몇 도입니까?'))\n",
    "fahrenheit = celsius * 1.8 + 32\n",
    "\n",
    "print(f'화씨 {fahrenheit}도 입니다.')"
   ]
  },
  {
   "cell_type": "markdown",
   "id": "c317a70d-ab60-447b-80fd-7ca4f6d86796",
   "metadata": {},
   "source": [
    "온도는 float으로 받는다\n",
    "특별한 이유 없이 대문자 변수명(C, F) 쓰지 않는다"
   ]
  },
  {
   "cell_type": "markdown",
   "id": "4b62da40-ca18-4168-837d-586155856678",
   "metadata": {},
   "source": [
    "### Quiz 2\n",
    "- 택배 정보 입력 받고, 총 합계 계산하기\n",
    "- 출력값:\n",
    "    - \"==택배 정보==\"\n",
    "    - 수취인 성명: <이름>\n",
    "    - 수취인 주소: <주소>\n",
    "    - 배송비: 3000원\n",
    "    - 총 합계: <가격>원\n",
    "- 물건 비용 = 무게(g) * 5\n",
    "- 합계 = 배송비 + 물건 비용"
   ]
  },
  {
   "cell_type": "code",
   "execution_count": 71,
   "id": "3038a851-dc18-4244-9fae-f2c139bf5598",
   "metadata": {},
   "outputs": [
    {
     "name": "stdin",
     "output_type": "stream",
     "text": [
      "수취인 성명: 김현지\n",
      "수취인 주소: 동수원 자이1차 101동 1207호\n",
      "택배 무게(g): 600.5\n"
     ]
    },
    {
     "name": "stdout",
     "output_type": "stream",
     "text": [
      "\n",
      "==택배 정보==\n",
      "수취인 성명: 김현지\n",
      "수취인 주소: 동수원 자이1차 101동 1207호\n",
      "택배 무게(g): 600.5\n",
      "물건 비용: 3002원\n",
      "배송비: 3000원\n",
      "합계: 6002원\n",
      "\n"
     ]
    }
   ],
   "source": [
    "name = str(input('수취인 성명:'))\n",
    "address = str(input('수취인 주소:'))\n",
    "weight = float(input('택배 무게(g):'))\n",
    "price_item = int(weight * 5)\n",
    "shipping_fee = 3000\n",
    "price_total = shipping_fee + price_item\n",
    "\n",
    "print(f'''\n",
    "==택배 정보==\n",
    "수취인 성명: {name}\n",
    "수취인 주소: {address}\n",
    "택배 무게(g): {weight}\n",
    "물건 비용: {price_item}원\n",
    "배송비: {shipping_fee}원\n",
    "합계: {price_total}원\n",
    "''')"
   ]
  },
  {
   "cell_type": "markdown",
   "id": "55bbe6a0-5ff3-45fc-bb57-2a714ddc8e5e",
   "metadata": {},
   "source": [
    "---"
   ]
  },
  {
   "cell_type": "markdown",
   "id": "0913e939-e55c-412c-bd7a-6d6f3562f36e",
   "metadata": {
    "tags": []
   },
   "source": [
    "# Ch03. Numbers"
   ]
  },
  {
   "cell_type": "markdown",
   "id": "f1055983-d4a0-4794-ba03-962adaf93540",
   "metadata": {},
   "source": [
    "#### boolean\n",
    "- bool로 형 변환할 때, 어떤 값이 True, False인지 기억하라\n",
    "    - '', None, 0 이 False\n",
    "- 조건식에서 많이 쓴다. 예) 만약 이 조건이 True라면, ..."
   ]
  },
  {
   "cell_type": "code",
   "execution_count": 72,
   "id": "0294b0d6-9220-4e0c-9f29-ffd59c0511d5",
   "metadata": {},
   "outputs": [
    {
     "data": {
      "text/plain": [
       "True"
      ]
     },
     "execution_count": 72,
     "metadata": {},
     "output_type": "execute_result"
    }
   ],
   "source": [
    "bool(1) # 비어 있지 않은 모든 인수에 대해 True를 반환"
   ]
  },
  {
   "cell_type": "code",
   "execution_count": 74,
   "id": "f4a77d8d-56f0-400d-82ab-ed16ea5892af",
   "metadata": {},
   "outputs": [
    {
     "data": {
      "text/plain": [
       "False"
      ]
     },
     "execution_count": 74,
     "metadata": {},
     "output_type": "execute_result"
    }
   ],
   "source": [
    "bool('') # 빈 인수에 대해 False를 반환"
   ]
  },
  {
   "cell_type": "markdown",
   "id": "ba9e344b-71a4-4b7b-b490-5143dfcab524",
   "metadata": {},
   "source": [
    "#### integer\n",
    "- 소수점 부분 없음\n",
    "- default가 양수, 음수는 앞에 -를 붙임\n",
    "- 숫자 앞에 0을 붙일 수 없다. 예) 05\n",
    "    - 예외적으로, 0bxxx, => 다른 진수 표현법\n",
    "- 리터럴\n",
    "    - 숫자나 문자열 등을 말함\n",
    "    - 리터럴 상수: 한 번 지정되면 변하지 않고, 변경할 수 없다 (숫자 2는 언제나 2라는 숫자임을 나타냄)\n",
    "- 중간에 공백이 많아도 무시 된다\n",
    "- 10,000원 -> 10과 000 두 개로 인식 => 대신 숫자 사이에 있어도 무시 되는 언더바 사용 (예: 10_000)"
   ]
  },
  {
   "cell_type": "code",
   "execution_count": 3,
   "id": "5606960c-516a-4619-949e-98dba21aa7c8",
   "metadata": {},
   "outputs": [
    {
     "data": {
      "text/plain": [
       "-1"
      ]
     },
     "execution_count": 3,
     "metadata": {},
     "output_type": "execute_result"
    }
   ],
   "source": [
    "a = -9\n",
    "8 + a"
   ]
  },
  {
   "cell_type": "code",
   "execution_count": 75,
   "id": "6edc1528-b8ae-4a08-a4fd-93f2ae1ee2be",
   "metadata": {},
   "outputs": [
    {
     "ename": "SyntaxError",
     "evalue": "leading zeros in decimal integer literals are not permitted; use an 0o prefix for octal integers (Temp/ipykernel_21372/3870451612.py, line 1)",
     "output_type": "error",
     "traceback": [
      "\u001b[1;36m  File \u001b[1;32m\"C:\\Users\\syui0\\AppData\\Local\\Temp/ipykernel_21372/3870451612.py\"\u001b[1;36m, line \u001b[1;32m1\u001b[0m\n\u001b[1;33m    a = 09 # 숫자 앞에 0을 붙일 수 없다\u001b[0m\n\u001b[1;37m         ^\u001b[0m\n\u001b[1;31mSyntaxError\u001b[0m\u001b[1;31m:\u001b[0m leading zeros in decimal integer literals are not permitted; use an 0o prefix for octal integers\n"
     ]
    }
   ],
   "source": [
    "a = 09 # 숫자 앞에 0을 붙일 수 없다"
   ]
  },
  {
   "cell_type": "code",
   "execution_count": 76,
   "id": "eb849a56-7cc6-447c-a756-4d2b67d111c1",
   "metadata": {},
   "outputs": [
    {
     "data": {
      "text/plain": [
       "-6"
      ]
     },
     "execution_count": 76,
     "metadata": {},
     "output_type": "execute_result"
    }
   ],
   "source": [
    "-9  +  8         -5 # 중간에 공백이 많아도 무시 된다"
   ]
  },
  {
   "cell_type": "code",
   "execution_count": 77,
   "id": "31352d05-a4f7-446b-9c01-2b28380ea009",
   "metadata": {},
   "outputs": [
    {
     "name": "stdout",
     "output_type": "stream",
     "text": [
      "10000\n"
     ]
    }
   ],
   "source": [
    "a = 10_000 # 숫자 사이에 있는 언더바는 무시된다\n",
    "print(a)"
   ]
  },
  {
   "cell_type": "markdown",
   "id": "2d243eb2-4a2f-4fe3-bb27-d57c3104a9b1",
   "metadata": {},
   "source": [
    "#### 연산\n",
    "- 연산자|operator: +, -, ...\n",
    "- 피연산자|operand: 4, 5, ...\n",
    "- 수식|expression"
   ]
  },
  {
   "cell_type": "code",
   "execution_count": 84,
   "id": "39a79d32-66da-4106-a0b7-448c6df80a12",
   "metadata": {},
   "outputs": [
    {
     "name": "stdout",
     "output_type": "stream",
     "text": [
      "13 -5 36 0.4444444444444444\n"
     ]
    },
    {
     "data": {
      "text/plain": [
       "262144"
      ]
     },
     "execution_count": 84,
     "metadata": {},
     "output_type": "execute_result"
    }
   ],
   "source": [
    "x = 4\n",
    "y = 9\n",
    "\n",
    "print(\n",
    "x + y, \n",
    "x - y, \n",
    "x * y,\n",
    "x / y\n",
    ")\n",
    "\n",
    "# 거듭제곱|exponential\n",
    "x ** y"
   ]
  },
  {
   "cell_type": "markdown",
   "id": "2638cde6-31a3-4be7-92e4-fe1aa484150e",
   "metadata": {},
   "source": [
    "나눗셈에서 주의할 사항"
   ]
  },
  {
   "cell_type": "code",
   "execution_count": 88,
   "id": "4bbae052-ecfd-466b-b3e5-26230a511fb5",
   "metadata": {},
   "outputs": [
    {
     "name": "stdout",
     "output_type": "stream",
     "text": [
      "0 4 0.4444444444444444\n"
     ]
    }
   ],
   "source": [
    "#1. can't be divided by zero => 주의 (x/y에서 y != 0)\n",
    "#2. 몫, 나머지\n",
    "print(\n",
    "x // y, # 몫\n",
    "x % y, #나머지\n",
    "x / y # 단순 나눗셈\n",
    ")"
   ]
  },
  {
   "cell_type": "code",
   "execution_count": 92,
   "id": "29524d61-48c1-482f-bf91-1b12520c3fee",
   "metadata": {},
   "outputs": [
    {
     "data": {
      "text/plain": [
       "(0, 4)"
      ]
     },
     "execution_count": 92,
     "metadata": {},
     "output_type": "execute_result"
    }
   ],
   "source": [
    "x = 4\n",
    "y = 9\n",
    "divmod(x, y) # 몫과 나머지를 구하여 tuple로 반환하는 내장함수"
   ]
  },
  {
   "cell_type": "markdown",
   "id": "6189957f-2765-41d8-bb5f-8acc1c1ad764",
   "metadata": {},
   "source": [
    "#### 복합 대입연산자| compound assignment operator"
   ]
  },
  {
   "cell_type": "code",
   "execution_count": 93,
   "id": "c1d94123-703a-4ea0-923a-d8b58ce49d0e",
   "metadata": {},
   "outputs": [
    {
     "name": "stdout",
     "output_type": "stream",
     "text": [
      "5\n"
     ]
    }
   ],
   "source": [
    "a = 5\n",
    "a - 3\n",
    "print(a) # a자체의 값은 여전히 5"
   ]
  },
  {
   "cell_type": "code",
   "execution_count": 173,
   "id": "453efc56-f0e4-42c4-acf1-3aecf8ea259c",
   "metadata": {},
   "outputs": [
    {
     "name": "stdout",
     "output_type": "stream",
     "text": [
      "2\n"
     ]
    }
   ],
   "source": [
    "a = 5\n",
    "# a = a - 3\n",
    "\n",
    "\"\"\"\n",
    "원리\n",
    "1. a-3 계산\n",
    "2. 임시변수 temp = a-3\n",
    "3. a = temp\n",
    "\"\"\"\n",
    "\n",
    "a -= 3\n",
    "print(a)"
   ]
  },
  {
   "cell_type": "code",
   "execution_count": 15,
   "id": "3f409df2-8e46-4c75-909f-53713a0accbc",
   "metadata": {},
   "outputs": [],
   "source": [
    "a += 3\n",
    "a -= 3\n",
    "a *= 3\n",
    "a /= 3"
   ]
  },
  {
   "cell_type": "code",
   "execution_count": 101,
   "id": "4e1dd6b5-2880-467a-b216-efcbc2cca6d5",
   "metadata": {},
   "outputs": [
    {
     "ename": "NameError",
     "evalue": "name 'u' is not defined",
     "output_type": "error",
     "traceback": [
      "\u001b[1;31m---------------------------------------------------------------------------\u001b[0m",
      "\u001b[1;31mNameError\u001b[0m                                 Traceback (most recent call last)",
      "\u001b[1;32m~\\AppData\\Local\\Temp/ipykernel_21372/3323116723.py\u001b[0m in \u001b[0;36m<module>\u001b[1;34m\u001b[0m\n\u001b[1;32m----> 1\u001b[1;33m \u001b[0mu\u001b[0m \u001b[1;33m=\u001b[0m \u001b[0mu\u001b[0m \u001b[1;33m+\u001b[0m \u001b[1;36m1\u001b[0m \u001b[1;31m# 변수값을 초기화하지 않고 사용하면 에러가 남\u001b[0m\u001b[1;33m\u001b[0m\u001b[1;33m\u001b[0m\u001b[0m\n\u001b[0m",
      "\u001b[1;31mNameError\u001b[0m: name 'u' is not defined"
     ]
    }
   ],
   "source": [
    "u = u + 1 # 변수값을 초기화하지 않고 사용하면 에러가 남"
   ]
  },
  {
   "cell_type": "code",
   "execution_count": 22,
   "id": "28c82176-c98f-4909-bc4e-928c894238e7",
   "metadata": {},
   "outputs": [
    {
     "data": {
      "text/plain": [
       "5"
      ]
     },
     "execution_count": 22,
     "metadata": {},
     "output_type": "execute_result"
    }
   ],
   "source": [
    "u = 4 # 값 초기화할 것\n",
    "u = u + 1\n",
    "u"
   ]
  },
  {
   "cell_type": "markdown",
   "id": "f9339414-3905-48d9-aae8-2b51dd75ea82",
   "metadata": {},
   "source": [
    "### Quiz 1.\n",
    "- 정수를 입력 받고 3의 배수인지 확인하세요.\n",
    "- 홀수인지 확인하세요."
   ]
  },
  {
   "cell_type": "code",
   "execution_count": null,
   "id": "c6c03fbf-57e8-4964-97e7-3272177c79d5",
   "metadata": {},
   "outputs": [
    {
     "name": "stdin",
     "output_type": "stream",
     "text": [
      "정수를 입력하세요: 3\n"
     ]
    },
    {
     "name": "stdout",
     "output_type": "stream",
     "text": [
      "3은(는) 3의 배수이며, 홀수입니다.\n"
     ]
    }
   ],
   "source": [
    "num = int(input('정수를 입력하세요:'))\n",
    "\n",
    "if num % 3 == 0:\n",
    "    print(f'{num}은(는) 3의 배수이며,', end = ' ')\n",
    "else:\n",
    "    print(f'{num}은(는) 3의 배수가 아니며,', end = ' ')\n",
    "    \n",
    "if num % 2 == 1:\n",
    "    print('홀수입니다.')\n",
    "else:\n",
    "    print('홀수가 아닙니다.')"
   ]
  },
  {
   "cell_type": "code",
   "execution_count": 113,
   "id": "a871ed2e-5fa3-451e-8e6f-6b043b56adfe",
   "metadata": {
    "tags": []
   },
   "outputs": [
    {
     "name": "stdin",
     "output_type": "stream",
     "text": [
      "정수를 입력하세요: 6\n"
     ]
    },
    {
     "name": "stdout",
     "output_type": "stream",
     "text": [
      "6은(는) 3의 배수이다:\n"
     ]
    },
    {
     "data": {
      "text/plain": [
       "True"
      ]
     },
     "execution_count": 113,
     "metadata": {},
     "output_type": "execute_result"
    }
   ],
   "source": [
    "num = int(input('정수를 입력하세요:'))\n",
    "print(f'{num}은(는) 3의 배수이다:')\n",
    "num % 3 == 0"
   ]
  },
  {
   "cell_type": "code",
   "execution_count": 114,
   "id": "1dbcba2e-b4c5-4e7c-8c6d-3286d999d499",
   "metadata": {},
   "outputs": [
    {
     "name": "stdin",
     "output_type": "stream",
     "text": [
      "정수를 입력하세요: 3\n"
     ]
    },
    {
     "name": "stdout",
     "output_type": "stream",
     "text": [
      "3은(는) 홀수이다:\n"
     ]
    },
    {
     "data": {
      "text/plain": [
       "True"
      ]
     },
     "execution_count": 114,
     "metadata": {},
     "output_type": "execute_result"
    }
   ],
   "source": [
    "num = int(input('정수를 입력하세요:'))\n",
    "print(f'{num}은(는) 홀수이다:')\n",
    "num % 2 == 1"
   ]
  },
  {
   "cell_type": "markdown",
   "id": "dfeb008b-a2bd-45f0-8458-d4dabad0f328",
   "metadata": {},
   "source": [
    "#### 지수 표현\n",
    "- e, E 둘다 가능하다\n",
    "- 앞부분은 float, int 둘 다 올 수 있으며, 뒷부분은 int만 온다\n",
    "- e의 뒷부분이 음수면 소수점 자릿수를 의미"
   ]
  },
  {
   "cell_type": "code",
   "execution_count": 158,
   "id": "99b9ac31-b4a3-4d40-ad75-e3efd18c4b5a",
   "metadata": {},
   "outputs": [
    {
     "data": {
      "text/plain": [
       "10000000000.0"
      ]
     },
     "execution_count": 158,
     "metadata": {},
     "output_type": "execute_result"
    }
   ],
   "source": [
    "1.0e10 # float"
   ]
  },
  {
   "cell_type": "code",
   "execution_count": 175,
   "id": "432a1df5-37c2-4205-8175-03f24eae10a0",
   "metadata": {},
   "outputs": [
    {
     "data": {
      "text/plain": [
       "4.24e-10"
      ]
     },
     "execution_count": 175,
     "metadata": {},
     "output_type": "execute_result"
    }
   ],
   "source": [
    "4.24e10 # 4.24 * 10^10\n",
    "4.24e-10 # 4.24 * 10^-10"
   ]
  },
  {
   "cell_type": "code",
   "execution_count": 177,
   "id": "e6403b4d-80d8-4b21-8c8e-cab84aac526f",
   "metadata": {},
   "outputs": [
    {
     "data": {
      "text/plain": [
       "0.000789"
      ]
     },
     "execution_count": 177,
     "metadata": {},
     "output_type": "execute_result"
    }
   ],
   "source": [
    "# 0.000789 => 지수표현\n",
    "789e-6"
   ]
  },
  {
   "cell_type": "markdown",
   "id": "9746f0fc-bbd8-4362-91cb-f1da090773a6",
   "metadata": {},
   "source": [
    "---"
   ]
  },
  {
   "cell_type": "markdown",
   "id": "5fdd8104-b7f1-4d47-8e11-9727dad364bf",
   "metadata": {
    "tags": []
   },
   "source": [
    "### 조건문, if\n",
    "- code structure"
   ]
  },
  {
   "cell_type": "markdown",
   "id": "875a401f-1520-437f-83f0-fd056639b281",
   "metadata": {},
   "source": [
    "### 코드 짜는 룰\n",
    "- 주석 다는 법\n",
    "    - 코드를 설명하는 부분\n",
    "    - 목적: 의도 표현, 의사소통 등\n",
    "    - #(hash, sharp) : 시작된 부분부터 그 라인의 끝까지가 주석(한 줄 주석)\n",
    "        - ctrl + / : 여러 줄을 #으로 주석처리\n",
    "    - 문자열 안에 들어있는 해시는 문자열로 인식\n",
    "    - '''<주석>''' or \"\"\"<주석>\"\"\" : 여러 줄 주석\n",
    "    \n",
    "- 라인 유지하기\n",
    "    - 들여쓰기 : 소스와 동일한 들여쓰기를 해야 한다 \n",
    "        - 공백 4개, 탭 1개\n",
    "    - 가독성을 위해 한 줄에 80자를 넘지 않도록\n",
    "    - 백슬레시로 끊어준다 (`/`)"
   ]
  },
  {
   "cell_type": "code",
   "execution_count": 1,
   "id": "6c35e650-3296-4ac2-9b94-22b64eafc3f9",
   "metadata": {},
   "outputs": [],
   "source": [
    "a = 3 # 해시부터 라인 끝까지가 주석이다\n",
    "b = 2"
   ]
  },
  {
   "cell_type": "code",
   "execution_count": 3,
   "id": "bb20e7f5-baa8-4fed-85eb-e3a3f03a1b4e",
   "metadata": {},
   "outputs": [
    {
     "name": "stdout",
     "output_type": "stream",
     "text": [
      "hey ###\n"
     ]
    },
    {
     "data": {
      "text/plain": [
       "'\\n주석1\\n주석2\\n주석3\\n'"
      ]
     },
     "execution_count": 3,
     "metadata": {},
     "output_type": "execute_result"
    }
   ],
   "source": [
    "example = 'hey ###' # 문자열 안에 들어있는 해시는 문자열로 인식된다\n",
    "print(example)\n",
    "\n",
    "\"\"\"\n",
    "주석1\n",
    "주석2\n",
    "주석3\n",
    "\"\"\" # 여러 줄 주석"
   ]
  },
  {
   "cell_type": "code",
   "execution_count": 5,
   "id": "66b2b6d6-973b-4cbb-b408-389a87aa5c03",
   "metadata": {
    "collapsed": true,
    "jupyter": {
     "outputs_hidden": true
    },
    "tags": []
   },
   "outputs": [
    {
     "ename": "SyntaxError",
     "evalue": "invalid syntax (Temp/ipykernel_27700/3590242269.py, line 2)",
     "output_type": "error",
     "traceback": [
      "\u001b[1;36m  File \u001b[1;32m\"C:\\Users\\syui0\\AppData\\Local\\Temp/ipykernel_27700/3590242269.py\"\u001b[1;36m, line \u001b[1;32m2\u001b[0m\n\u001b[1;33m    if ....:\u001b[0m\n\u001b[1;37m           ^\u001b[0m\n\u001b[1;31mSyntaxError\u001b[0m\u001b[1;31m:\u001b[0m invalid syntax\n"
     ]
    }
   ],
   "source": [
    "# 조건문\n",
    "if ....:\n",
    "    ### 자동 들여쓰기\n",
    "    "
   ]
  },
  {
   "cell_type": "markdown",
   "id": "3f29e571-1e10-4490-8dcc-d5874b6ca5c0",
   "metadata": {
    "tags": []
   },
   "source": [
    "#### 조건 1개:\n",
    "    if <조건식1>:\n",
    "        <실행할 코드1>"
   ]
  },
  {
   "cell_type": "code",
   "execution_count": 6,
   "id": "5bad8191-09d5-4990-a2e2-419d65b95502",
   "metadata": {},
   "outputs": [],
   "source": [
    "if 4 == 9:\n",
    "    print('Yaay!')"
   ]
  },
  {
   "cell_type": "code",
   "execution_count": 8,
   "id": "68bbe68f-faf1-4e89-af4d-3bcffb75b3e0",
   "metadata": {},
   "outputs": [
    {
     "name": "stdout",
     "output_type": "stream",
     "text": [
      "Yaay!\n"
     ]
    }
   ],
   "source": [
    "if 4 != 9:\n",
    "    print('Yaay!')"
   ]
  },
  {
   "cell_type": "markdown",
   "id": "bd27256f-fadf-4fc1-8b28-fbf964548534",
   "metadata": {},
   "source": [
    "#### 조건 2개:\n",
    "    if <조건식1>:\n",
    "        <실행할 코드>\n",
    "    else:\n",
    "        <실행할 코드2>"
   ]
  },
  {
   "cell_type": "code",
   "execution_count": 10,
   "id": "8693b2bb-12dc-4925-8ec8-fe52870d348c",
   "metadata": {},
   "outputs": [
    {
     "name": "stdout",
     "output_type": "stream",
     "text": [
      "Hey!\n"
     ]
    }
   ],
   "source": [
    "if 4 == 9:\n",
    "    print('Yaay!')\n",
    "else:\n",
    "    print('Hey!')"
   ]
  },
  {
   "cell_type": "markdown",
   "id": "5b67a990-5cd3-48ba-a9a9-8727fc178b9e",
   "metadata": {},
   "source": [
    "#### 조건 3개 이상:\n",
    "    if <조건식1>:\n",
    "        <실행할 코드>\n",
    "    elif <조건식2>:\n",
    "        <실행할 코드3>  \n",
    "    ... else:\n",
    "        <실행할 코드>\n",
    "        "
   ]
  },
  {
   "cell_type": "markdown",
   "id": "288e5f4e-5309-4999-b3b5-695c4177720d",
   "metadata": {},
   "source": [
    "#### 비교연산자\n",
    "- x < y, x <= y\n",
    "- x > y, x >= y\n",
    "- x == y (값)\n",
    "- x != y (값)\n",
    "- x is y (값, 메모리 주소)\n",
    "- x is not y"
   ]
  },
  {
   "cell_type": "markdown",
   "id": "4c34621e-d8f7-4401-bd4b-ef9213a8143a",
   "metadata": {},
   "source": [
    "### Quiz 1.\n",
    "- 학점 부여하기\n",
    "- 학점을 입력 받아서\n",
    "    - 90점 이상이면 A\n",
    "    - 80, B\n",
    "    - 70, C\n",
    "    - 그외 D\n",
    "    \n",
    "- 변수 설정 유의\n",
    "- f string 쓰고, 콤마 쓰지 말고"
   ]
  },
  {
   "cell_type": "code",
   "execution_count": 22,
   "id": "db16f4f6-6731-45f7-a68b-a9c6ae80c349",
   "metadata": {},
   "outputs": [
    {
     "name": "stdin",
     "output_type": "stream",
     "text": [
      "점수를 입력하세요:  45\n"
     ]
    },
    {
     "name": "stdout",
     "output_type": "stream",
     "text": [
      "=== 학점 계산기 ===\n",
      "입력하신 점수는 45점이며, D학점 입니다.\n"
     ]
    }
   ],
   "source": [
    "score = int(input('점수를 입력하세요: '))\n",
    "grade = '' # 입력한 점수에 대한 학점\n",
    "\n",
    "print('=== 학점 계산기 ===')\n",
    "\n",
    "if score >= 90:\n",
    "    grade = 'A'\n",
    "elif score >= 80:\n",
    "    grade = 'B'\n",
    "elif score >= 70:\n",
    "    grade = 'C'\n",
    "else:\n",
    "    grade = 'D'\n",
    "\n",
    "print(f'입력하신 점수는 {score}점이며, {grade}학점 입니다.')"
   ]
  },
  {
   "cell_type": "markdown",
   "id": "2d99f874-6a9f-49aa-829e-65d19a95147e",
   "metadata": {},
   "source": [
    "### Quiz 2.\n",
    "- 아이디와 비번 입력 받아서 둘다 일치하면 로그인하기\n",
    "- 아이디, 비번 각자 정해놓기\n",
    "- 일치하지 않을 때에는 창의적으로 어떤 걸로 반환하기"
   ]
  },
  {
   "cell_type": "code",
   "execution_count": 21,
   "id": "ce2311aa-6490-48c1-bda2-8c220233dcc8",
   "metadata": {},
   "outputs": [
    {
     "name": "stdin",
     "output_type": "stream",
     "text": [
      "ID를 입력하세요: hyunji\n",
      "비밀번호를 입력하세요: 1234\n"
     ]
    },
    {
     "name": "stdout",
     "output_type": "stream",
     "text": [
      "로그인 되었습니다.\n"
     ]
    }
   ],
   "source": [
    "set_id = 'hyunji'; set_pw = '1234'\n",
    "\n",
    "enter_id = input('ID를 입력하세요:')\n",
    "enter_pw = input('비밀번호를 입력하세요:')\n",
    "\n",
    "if user_id == enter_id and user_pw == enter_pw:\n",
    "    print('로그인 되었습니다.')\n",
    "elif user_id != enter_id or user_pw != enter_pw:\n",
    "    print('ID 또는 비밀번호가 일치하지 않습니다.')"
   ]
  },
  {
   "cell_type": "markdown",
   "id": "d436756b-fc31-4929-abde-60b36960e139",
   "metadata": {
    "jp-MarkdownHeadingCollapsed": true,
    "tags": []
   },
   "source": [
    "#### 논리연산자\n",
    "- 여러 조건식을 비교할 때\n",
    "    - 예: 10 < x < 20\n",
    "    - 파이썬에서만 가능한 표현\n",
    "- and, & : 둘다 참일 때만 True\n",
    "- or, |: 둘 중 하나만 참이어도 True\n",
    "- not: 참 -> False, 거짓 -> True"
   ]
  },
  {
   "cell_type": "markdown",
   "id": "b95a0cb9-fc0d-47a4-8a06-2ddc1f03af94",
   "metadata": {},
   "source": [
    "### Quiz 3.\n",
    "- quiz 2 확장판\n",
    "- 결석 횟수를 받아서 점수가 80점 이상인데 결석이 2번 이상이면 F, 나머지는 점수대로"
   ]
  },
  {
   "cell_type": "code",
   "execution_count": 27,
   "id": "0e96457d-a460-4957-a098-753bffaa90b7",
   "metadata": {},
   "outputs": [
    {
     "name": "stdin",
     "output_type": "stream",
     "text": [
      "점수를 입력하세요: 80\n",
      "결석 횟수를 입력하세요: 2\n"
     ]
    },
    {
     "name": "stdout",
     "output_type": "stream",
     "text": [
      "입력하신 점수는 80점이며, F학점 입니다.\n"
     ]
    }
   ],
   "source": [
    "score = int(input('점수를 입력하세요:'))\n",
    "number_of_absence = int(input('결석 횟수를 입력하세요:'))\n",
    "grade = '' # 입력받은 점수에 대한 학점\n",
    "\n",
    "if score >= 90:\n",
    "    if number_of_absence >= 2:\n",
    "        grade = 'F'\n",
    "    else:\n",
    "        grade = 'A'\n",
    "elif score >= 80:\n",
    "    if number_of_absence >= 2:\n",
    "        grade = 'F'\n",
    "    else:\n",
    "        grade = 'B'\n",
    "elif score >= 70:\n",
    "    grade = 'C'\n",
    "else:\n",
    "    grade = 'D'\n",
    "\n",
    "print(f'입력하신 점수는 {score}점이며, {grade}학점 입니다.')"
   ]
  }
 ],
 "metadata": {
  "kernelspec": {
   "display_name": "Python 3 (ipykernel)",
   "language": "python",
   "name": "python3"
  },
  "language_info": {
   "codemirror_mode": {
    "name": "ipython",
    "version": 3
   },
   "file_extension": ".py",
   "mimetype": "text/x-python",
   "name": "python",
   "nbconvert_exporter": "python",
   "pygments_lexer": "ipython3",
   "version": "3.9.7"
  }
 },
 "nbformat": 4,
 "nbformat_minor": 5
}
